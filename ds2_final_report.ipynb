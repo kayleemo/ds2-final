{
 "cells": [
  {
   "cell_type": "code",
   "execution_count": 11,
   "id": "4c962599",
   "metadata": {},
   "outputs": [],
   "source": [
    "import warnings\n",
    "warnings.filterwarnings(\"ignore\")\n",
    "\n",
    "import pandas as pd\n",
    "import numpy as np\n",
    "import statsmodels.formula.api as smf\n",
    "import statsmodels.api as sm\n",
    "import seaborn as sns\n",
    "import matplotlib.pyplot as plt\n",
    "from patsy import dmatrix\n",
    "from sklearn.metrics import mean_squared_error\n",
    "from pyearth import Earth\n",
    "from sklearn.metrics import roc_curve, precision_recall_curve, auc, make_scorer, recall_score, accuracy_score, precision_score, confusion_matrix\n",
    "from sklearn.linear_model import LinearRegression, LogisticRegression\n",
    "from sklearn.model_selection import train_test_split, cross_val_predict, cross_val_score, cross_validate\n",
    "from patsy import dmatrix\n",
    "import statsmodels.formula.api as smf\n",
    "from sklearn.model_selection import cross_val_predict\n",
    "from sklearn.metrics import accuracy_score, mean_absolute_error, mean_squared_error, r2_score, roc_curve, auc, precision_score, recall_score, confusion_matrix\n",
    "\n",
    "from sklearn.model_selection import KFold, StratifiedKFold\n",
    "from sklearn.tree import DecisionTreeRegressor, DecisionTreeClassifier\n",
    "from sklearn.model_selection import GridSearchCV, ParameterGrid\n",
    "from sklearn.ensemble import BaggingRegressor,BaggingClassifier,RandomForestClassifier, RandomForestRegressor\n",
    "from sklearn.linear_model import LinearRegression\n",
    "from sklearn.metrics import SCORERS\n",
    "\n",
    "#Libraries for visualizing trees\n",
    "from sklearn.tree import export_graphviz\n",
    "from six import StringIO\n",
    "from IPython.display import Image\n",
    "\n",
    "#import pydotplus\n",
    "import time as tm\n",
    "\n",
    "import itertools as it"
   ]
  },
  {
   "cell_type": "markdown",
   "id": "0116f49b",
   "metadata": {},
   "source": [
    "## Background"
   ]
  },
  {
   "cell_type": "markdown",
   "id": "d43d1119",
   "metadata": {},
   "source": [
    "As a student, I aimed to gain practical experience by working on a dataset that had real-world applications and relevance. Credit score prediction is a vital task for financial institutions, and having a model that accurately predicts individual credit scores can contribute to informed lending decisions and risk assessment. In addition, I wanted a dataset I knew was large enough to explore and test different modeling techniques. By utilizing bagged MARS, decision tree, random forest, and XGBoost models within my ensemble approach, I aimed to leverage the unique strengths and capabilities of each model."
   ]
  },
  {
   "cell_type": "markdown",
   "id": "84ff1421",
   "metadata": {},
   "source": [
    "## Problem statement "
   ]
  },
  {
   "cell_type": "markdown",
   "id": "94c21daf",
   "metadata": {},
   "source": [
    "Credit scores are a crucial factor in determining an individual’s financial health, and lenders heavily rely on them to assess creditworthiness and risk. However, credit score calculations can be complex and multifaceted, taking into account a range of factors such as payment history, outstanding debts, credit utilization, and length of credit history. **The goal is to build a reliable ensemble model using bagged MARS, decision tree, random forest, and XGboost models that can accurately predict individual credit scores based on multiple credit and customer-related predictors using RMSE as the evaluation metric.** This model will provide lenders with a tool to make more informed decisions and help secure better financial outcomes."
   ]
  },
  {
   "cell_type": "markdown",
   "id": "38c7b95f",
   "metadata": {},
   "source": [
    "## Data Sources"
   ]
  },
  {
   "cell_type": "markdown",
   "id": "5f7258bc",
   "metadata": {},
   "source": [
    "The data source is an open source dataset found on Kaggle. The data provides 100,000 observations, 18 continuous predictors as well as four categorical predictors that will be useful in my prediction of individual credit scores. The response is a column based off `Credit_Score` called `Credit_Rating`: the way this column is prepared is discussed in the \"Data quality check / cleaning / preparation\" section of this report.  Some of the predictors include `Credit_History_Age`, `new credit`, `Credit_Mix`, `Credit_Utilization_Ratio`, and `Num_of_Delayed_Payment`, amongst many others in need of assessment. The data set can be found [here](https://www.kaggle.com/datasets/parisrohan/credit-score-classification)."
   ]
  },
  {
   "cell_type": "markdown",
   "id": "fe7ea9bb",
   "metadata": {},
   "source": [
    "## Data Quality Check / Cleaning / Preparation "
   ]
  },
  {
   "cell_type": "markdown",
   "id": "02da5d5d",
   "metadata": {},
   "source": [
    "The first step taken in the data preparation was creating the new response column, `Credit_Rating`. The credit scores in the dataset are classified into \"Poor\", \"Standard\", and \"Good\". Each of the three categories were assigned random credit ratings to those with Poor credit scores (ratings from 0-579), those with Standard (ratings from 580-668), and Good (ratings from 670-729) in order to pursue a continuous response and model with regression. These credit ratings were determined using FICO score ratings found on [Investopedia](https://www.investopedia.com/terms/f/ficoscore.asp). Once the response was created, a new training dataset was created to use for the rest of the analysis.\n",
    "\n",
    "This dataset was very dirty. There were hundreds of instances where observations were surrounded by underscores and spaces that made it difficult to begin creating models. These invalid characters were removed from the columns, in addition to setting all numerical columns to the integer datatype. There were thousands of columns that were identified as outliers and errors, in addition to missing values. Before removing NAN values and outliers, the RMSE of the base model was found to be 209.98; however, upon removing these outliers and missing values, the RMSE dropped drastically to 86.83.\n",
    "\n",
    "Finally, dummy columns were made for the two categorical predictors `Credit_Mix` and `Payment_of_Min_Amount` using pd.get_dummies, and the dataset was split using test_size = 0.2 and random_state = 45"
   ]
  },
  {
   "cell_type": "code",
   "execution_count": 8,
   "id": "1a8cc35e",
   "metadata": {
    "tags": [
     "hide_input"
    ]
   },
   "outputs": [
    {
     "data": {
      "image/png": "[encoded data removed]",
      "text/plain": [
       "<Figure size 576x432 with 1 Axes>"
      ]
     },
     "metadata": {
      "needs_background": "light"
     },
     "output_type": "display_data"
    },
    {
     "name": "stdout",
     "output_type": "stream",
     "text": [
      "Statistical Summary of Response \"Credit_Rating\":\n"
     ]
    },
    {
     "data": {
      "text/plain": [
       "count    8034.000000\n",
       "mean      618.481320\n",
       "std        75.088475\n",
       "min       353.837009\n",
       "25%       594.377473\n",
       "50%       630.049322\n",
       "75%       664.552099\n",
       "max       728.753781\n",
       "Name: Credit_Rating, dtype: float64"
      ]
     },
     "execution_count": 8,
     "metadata": {},
     "output_type": "execute_result"
    }
   ],
   "source": [
    "fig, ax = plt.subplots(figsize=(8, 6))\n",
    "\n",
    "sns.kdeplot(train_final['Credit_Rating'], ax=ax)\n",
    "\n",
    "ax.set_title(\"Distribution of the response 'Credit_Rating'\")\n",
    "ax.set_xlabel('Credit Rating')\n",
    "ax.set_ylabel('Density')\n",
    "plt.show()\n",
    "\n",
    "print('Statistical Summary of Response \"Credit_Rating\":')\n",
    "train_final['Credit_Rating'].describe().T"
   ]
  },
  {
   "cell_type": "code",
   "execution_count": 9,
   "id": "8924032e",
   "metadata": {
    "tags": [
     "hide_input"
    ]
   },
   "outputs": [
    {
     "name": "stdout",
     "output_type": "stream",
     "text": [
      "Continuous Predictor Distribution Table:\n"
     ]
    },
    {
     "data": {
      "text/html": [
       "<div>\n",
       "<style scoped>\n",
       "    .dataframe tbody tr th:only-of-type {\n",
       "        vertical-align: middle;\n",
       "    }\n",
       "\n",
       "    .dataframe tbody tr th {\n",
       "        vertical-align: top;\n",
       "    }\n",
       "\n",
       "    .dataframe thead th {\n",
       "        text-align: right;\n",
       "    }\n",
       "</style>\n",
       "<table border=\"1\" class=\"dataframe\">\n",
       "  <thead>\n",
       "    <tr style=\"text-align: right;\">\n",
       "      <th></th>\n",
       "      <th>count</th>\n",
       "      <th>mean</th>\n",
       "      <th>std</th>\n",
       "      <th>min</th>\n",
       "      <th>25%</th>\n",
       "      <th>50%</th>\n",
       "      <th>75%</th>\n",
       "      <th>max</th>\n",
       "    </tr>\n",
       "  </thead>\n",
       "  <tbody>\n",
       "    <tr>\n",
       "      <th>Age</th>\n",
       "      <td>8034.0</td>\n",
       "      <td>29.221309</td>\n",
       "      <td>53.129903</td>\n",
       "      <td>-500.000000</td>\n",
       "      <td>24.000000</td>\n",
       "      <td>33.000000</td>\n",
       "      <td>43.000000</td>\n",
       "      <td>711.000000</td>\n",
       "    </tr>\n",
       "    <tr>\n",
       "      <th>Annual_Income</th>\n",
       "      <td>8034.0</td>\n",
       "      <td>39756.415694</td>\n",
       "      <td>25094.001345</td>\n",
       "      <td>8459.020000</td>\n",
       "      <td>20701.211250</td>\n",
       "      <td>34107.420000</td>\n",
       "      <td>56408.135000</td>\n",
       "      <td>781808.000000</td>\n",
       "    </tr>\n",
       "    <tr>\n",
       "      <th>Monthly_Inhand_Salary</th>\n",
       "      <td>8034.0</td>\n",
       "      <td>3282.670144</td>\n",
       "      <td>1752.824797</td>\n",
       "      <td>989.594583</td>\n",
       "      <td>1747.830833</td>\n",
       "      <td>2845.254167</td>\n",
       "      <td>4663.861875</td>\n",
       "      <td>7309.870000</td>\n",
       "    </tr>\n",
       "    <tr>\n",
       "      <th>Num_Bank_Accounts</th>\n",
       "      <td>8034.0</td>\n",
       "      <td>5.016928</td>\n",
       "      <td>2.909389</td>\n",
       "      <td>-1.000000</td>\n",
       "      <td>3.000000</td>\n",
       "      <td>5.000000</td>\n",
       "      <td>7.000000</td>\n",
       "      <td>105.000000</td>\n",
       "    </tr>\n",
       "    <tr>\n",
       "      <th>Num_Credit_Card</th>\n",
       "      <td>8034.0</td>\n",
       "      <td>5.357605</td>\n",
       "      <td>5.265296</td>\n",
       "      <td>1.000000</td>\n",
       "      <td>4.000000</td>\n",
       "      <td>5.000000</td>\n",
       "      <td>7.000000</td>\n",
       "      <td>147.000000</td>\n",
       "    </tr>\n",
       "    <tr>\n",
       "      <th>Num_of_Loan</th>\n",
       "      <td>8034.0</td>\n",
       "      <td>2.927931</td>\n",
       "      <td>2.157650</td>\n",
       "      <td>0.000000</td>\n",
       "      <td>1.000000</td>\n",
       "      <td>3.000000</td>\n",
       "      <td>4.000000</td>\n",
       "      <td>49.000000</td>\n",
       "    </tr>\n",
       "    <tr>\n",
       "      <th>Num_of_Delayed_Payment</th>\n",
       "      <td>8034.0</td>\n",
       "      <td>12.411501</td>\n",
       "      <td>6.087740</td>\n",
       "      <td>-3.000000</td>\n",
       "      <td>9.000000</td>\n",
       "      <td>12.000000</td>\n",
       "      <td>17.000000</td>\n",
       "      <td>195.000000</td>\n",
       "    </tr>\n",
       "    <tr>\n",
       "      <th>Changed_Credit_Limit</th>\n",
       "      <td>8034.0</td>\n",
       "      <td>9.794203</td>\n",
       "      <td>3.569070</td>\n",
       "      <td>3.630000</td>\n",
       "      <td>7.120000</td>\n",
       "      <td>9.480000</td>\n",
       "      <td>12.137500</td>\n",
       "      <td>17.190000</td>\n",
       "    </tr>\n",
       "    <tr>\n",
       "      <th>Num_Credit_Inquiries</th>\n",
       "      <td>8034.0</td>\n",
       "      <td>5.132686</td>\n",
       "      <td>4.858646</td>\n",
       "      <td>0.000000</td>\n",
       "      <td>2.000000</td>\n",
       "      <td>4.000000</td>\n",
       "      <td>7.000000</td>\n",
       "      <td>208.000000</td>\n",
       "    </tr>\n",
       "    <tr>\n",
       "      <th>Outstanding_Debt</th>\n",
       "      <td>8034.0</td>\n",
       "      <td>1110.336964</td>\n",
       "      <td>567.402124</td>\n",
       "      <td>268.830000</td>\n",
       "      <td>656.020000</td>\n",
       "      <td>1053.720000</td>\n",
       "      <td>1406.010000</td>\n",
       "      <td>2576.960000</td>\n",
       "    </tr>\n",
       "    <tr>\n",
       "      <th>Credit_Utilization_Ratio</th>\n",
       "      <td>8034.0</td>\n",
       "      <td>32.242541</td>\n",
       "      <td>2.941859</td>\n",
       "      <td>27.209830</td>\n",
       "      <td>29.652694</td>\n",
       "      <td>32.234927</td>\n",
       "      <td>34.786044</td>\n",
       "      <td>37.414982</td>\n",
       "    </tr>\n",
       "    <tr>\n",
       "      <th>Total_EMI_per_month</th>\n",
       "      <td>8034.0</td>\n",
       "      <td>96.537481</td>\n",
       "      <td>333.861590</td>\n",
       "      <td>0.000000</td>\n",
       "      <td>24.064890</td>\n",
       "      <td>54.079318</td>\n",
       "      <td>101.066216</td>\n",
       "      <td>9505.000000</td>\n",
       "    </tr>\n",
       "    <tr>\n",
       "      <th>Amount_invested_monthly</th>\n",
       "      <td>8034.0</td>\n",
       "      <td>159.373058</td>\n",
       "      <td>126.226135</td>\n",
       "      <td>0.000000</td>\n",
       "      <td>71.368173</td>\n",
       "      <td>122.439148</td>\n",
       "      <td>203.326017</td>\n",
       "      <td>934.368000</td>\n",
       "    </tr>\n",
       "    <tr>\n",
       "      <th>Monthly_Balance</th>\n",
       "      <td>8034.0</td>\n",
       "      <td>366.782049</td>\n",
       "      <td>132.535989</td>\n",
       "      <td>0.599640</td>\n",
       "      <td>281.369138</td>\n",
       "      <td>343.811565</td>\n",
       "      <td>434.037787</td>\n",
       "      <td>891.209300</td>\n",
       "    </tr>\n",
       "  </tbody>\n",
       "</table>\n",
       "</div>"
      ],
      "text/plain": [
       "                           count          mean           std          min  \\\n",
       "Age                       8034.0     29.221309     53.129903  -500.000000   \n",
       "Annual_Income             8034.0  39756.415694  25094.001345  8459.020000   \n",
       "Monthly_Inhand_Salary     8034.0   3282.670144   1752.824797   989.594583   \n",
       "Num_Bank_Accounts         8034.0      5.016928      2.909389    -1.000000   \n",
       "Num_Credit_Card           8034.0      5.357605      5.265296     1.000000   \n",
       "Num_of_Loan               8034.0      2.927931      2.157650     0.000000   \n",
       "Num_of_Delayed_Payment    8034.0     12.411501      6.087740    -3.000000   \n",
       "Changed_Credit_Limit      8034.0      9.794203      3.569070     3.630000   \n",
       "Num_Credit_Inquiries      8034.0      5.132686      4.858646     0.000000   \n",
       "Outstanding_Debt          8034.0   1110.336964    567.402124   268.830000   \n",
       "Credit_Utilization_Ratio  8034.0     32.242541      2.941859    27.209830   \n",
       "Total_EMI_per_month       8034.0     96.537481    333.861590     0.000000   \n",
       "Amount_invested_monthly   8034.0    159.373058    126.226135     0.000000   \n",
       "Monthly_Balance           8034.0    366.782049    132.535989     0.599640   \n",
       "\n",
       "                                   25%           50%           75%  \\\n",
       "Age                          24.000000     33.000000     43.000000   \n",
       "Annual_Income             20701.211250  34107.420000  56408.135000   \n",
       "Monthly_Inhand_Salary      1747.830833   2845.254167   4663.861875   \n",
       "Num_Bank_Accounts             3.000000      5.000000      7.000000   \n",
       "Num_Credit_Card               4.000000      5.000000      7.000000   \n",
       "Num_of_Loan                   1.000000      3.000000      4.000000   \n",
       "Num_of_Delayed_Payment        9.000000     12.000000     17.000000   \n",
       "Changed_Credit_Limit          7.120000      9.480000     12.137500   \n",
       "Num_Credit_Inquiries          2.000000      4.000000      7.000000   \n",
       "Outstanding_Debt            656.020000   1053.720000   1406.010000   \n",
       "Credit_Utilization_Ratio     29.652694     32.234927     34.786044   \n",
       "Total_EMI_per_month          24.064890     54.079318    101.066216   \n",
       "Amount_invested_monthly      71.368173    122.439148    203.326017   \n",
       "Monthly_Balance             281.369138    343.811565    434.037787   \n",
       "\n",
       "                                    max  \n",
       "Age                          711.000000  \n",
       "Annual_Income             781808.000000  \n",
       "Monthly_Inhand_Salary       7309.870000  \n",
       "Num_Bank_Accounts            105.000000  \n",
       "Num_Credit_Card              147.000000  \n",
       "Num_of_Loan                   49.000000  \n",
       "Num_of_Delayed_Payment       195.000000  \n",
       "Changed_Credit_Limit          17.190000  \n",
       "Num_Credit_Inquiries         208.000000  \n",
       "Outstanding_Debt            2576.960000  \n",
       "Credit_Utilization_Ratio      37.414982  \n",
       "Total_EMI_per_month         9505.000000  \n",
       "Amount_invested_monthly      934.368000  \n",
       "Monthly_Balance              891.209300  "
      ]
     },
     "execution_count": 9,
     "metadata": {},
     "output_type": "execute_result"
    }
   ],
   "source": [
    "distribution_stats = train_final.describe().drop(['Unnamed: 0','Credit_Rating','Credit_Mix_Bad','Credit_Mix_Good','Credit_Mix_Standard',\n",
    "                                                 'Payment_of_Min_Amount_No','Payment_of_Min_Amount_Yes'],axis=1)\n",
    "print('Continuous Predictor Distribution Table:')\n",
    "distribution_stats.T"
   ]
  },
  {
   "cell_type": "code",
   "execution_count": 10,
   "id": "b1811838",
   "metadata": {
    "tags": [
     "hide_input"
    ]
   },
   "outputs": [
    {
     "name": "stdout",
     "output_type": "stream",
     "text": [
      "Categorical Predictor Distribution Table:\n"
     ]
    },
    {
     "data": {
      "text/html": [
       "<div>\n",
       "<style scoped>\n",
       "    .dataframe tbody tr th:only-of-type {\n",
       "        vertical-align: middle;\n",
       "    }\n",
       "\n",
       "    .dataframe tbody tr th {\n",
       "        vertical-align: top;\n",
       "    }\n",
       "\n",
       "    .dataframe thead th {\n",
       "        text-align: right;\n",
       "    }\n",
       "</style>\n",
       "<table border=\"1\" class=\"dataframe\">\n",
       "  <thead>\n",
       "    <tr style=\"text-align: right;\">\n",
       "      <th></th>\n",
       "      <th>Variable</th>\n",
       "      <th>Category</th>\n",
       "      <th>Frequency</th>\n",
       "    </tr>\n",
       "  </thead>\n",
       "  <tbody>\n",
       "    <tr>\n",
       "      <th>0</th>\n",
       "      <td>Credit_Mix_Bad</td>\n",
       "      <td>0</td>\n",
       "      <td>7346</td>\n",
       "    </tr>\n",
       "    <tr>\n",
       "      <th>1</th>\n",
       "      <td>Credit_Mix_Bad</td>\n",
       "      <td>1</td>\n",
       "      <td>688</td>\n",
       "    </tr>\n",
       "    <tr>\n",
       "      <th>2</th>\n",
       "      <td>Credit_Mix_Good</td>\n",
       "      <td>0</td>\n",
       "      <td>5555</td>\n",
       "    </tr>\n",
       "    <tr>\n",
       "      <th>3</th>\n",
       "      <td>Credit_Mix_Good</td>\n",
       "      <td>1</td>\n",
       "      <td>2479</td>\n",
       "    </tr>\n",
       "    <tr>\n",
       "      <th>4</th>\n",
       "      <td>Credit_Mix_Standard</td>\n",
       "      <td>1</td>\n",
       "      <td>4867</td>\n",
       "    </tr>\n",
       "    <tr>\n",
       "      <th>5</th>\n",
       "      <td>Credit_Mix_Standard</td>\n",
       "      <td>0</td>\n",
       "      <td>3167</td>\n",
       "    </tr>\n",
       "    <tr>\n",
       "      <th>6</th>\n",
       "      <td>Payment_of_Min_Amount_No</td>\n",
       "      <td>0</td>\n",
       "      <td>4519</td>\n",
       "    </tr>\n",
       "    <tr>\n",
       "      <th>7</th>\n",
       "      <td>Payment_of_Min_Amount_No</td>\n",
       "      <td>1</td>\n",
       "      <td>3515</td>\n",
       "    </tr>\n",
       "    <tr>\n",
       "      <th>8</th>\n",
       "      <td>Payment_of_Min_Amount_Yes</td>\n",
       "      <td>1</td>\n",
       "      <td>4519</td>\n",
       "    </tr>\n",
       "    <tr>\n",
       "      <th>9</th>\n",
       "      <td>Payment_of_Min_Amount_Yes</td>\n",
       "      <td>0</td>\n",
       "      <td>3515</td>\n",
       "    </tr>\n",
       "  </tbody>\n",
       "</table>\n",
       "</div>"
      ],
      "text/plain": [
       "                    Variable Category Frequency\n",
       "0             Credit_Mix_Bad        0      7346\n",
       "1             Credit_Mix_Bad        1       688\n",
       "2            Credit_Mix_Good        0      5555\n",
       "3            Credit_Mix_Good        1      2479\n",
       "4        Credit_Mix_Standard        1      4867\n",
       "5        Credit_Mix_Standard        0      3167\n",
       "6   Payment_of_Min_Amount_No        0      4519\n",
       "7   Payment_of_Min_Amount_No        1      3515\n",
       "8  Payment_of_Min_Amount_Yes        1      4519\n",
       "9  Payment_of_Min_Amount_Yes        0      3515"
      ]
     },
     "execution_count": 10,
     "metadata": {},
     "output_type": "execute_result"
    }
   ],
   "source": [
    "cat_var = ['Credit_Mix_Bad','Credit_Mix_Good','Credit_Mix_Standard',\n",
    "                            'Payment_of_Min_Amount_No','Payment_of_Min_Amount_Yes']\n",
    "\n",
    "distribution_table = pd.DataFrame(columns=['Variable', 'Category', 'Frequency'])\n",
    "\n",
    "for var in cat_var:\n",
    "    distribution_stats = train_final[var].value_counts(dropna=False)\n",
    "    missing_values = train_final[var].isnull().sum()\n",
    "    temp_df = pd.DataFrame({\n",
    "        'Variable': var,\n",
    "        'Category': distribution_stats.index,\n",
    "        'Frequency': distribution_stats.values,\n",
    "    })\n",
    "\n",
    "    distribution_table = distribution_table.append(temp_df, ignore_index=True)\n",
    "\n",
    "print(\"Categorical Predictor Distribution Table:\")\n",
    "distribution_table"
   ]
  },
  {
   "cell_type": "markdown",
   "id": "fbb11c9b",
   "metadata": {},
   "source": [
    "## Exploratory data analysis"
   ]
  },
  {
   "cell_type": "markdown",
   "id": "d1f12d5d",
   "metadata": {},
   "source": [
    "I visualized the distribution of all predictors, continuous and categorical. I noticed many many outliers and extreme values for the continuous predictors from the visualizations. We dropped as many of the outliers as we could, dropping our data from 100,000 rows to around 8,000 rows. However, this was very helpful with our RMSE as our base model RMSE dropped from 209.98 to 86.83 without the outliers. An example visualization of our \"Age\" predictor is provided below, in which you can see the dataset included people of age -500 years and up to 8000 years."
   ]
  },
  {
   "cell_type": "code",
   "execution_count": 17,
   "id": "14a59729",
   "metadata": {},
   "outputs": [
    {
     "data": {
      "text/plain": [
       "<AxesSubplot:xlabel='Age', ylabel='Density'>"
      ]
     },
     "execution_count": 17,
     "metadata": {},
     "output_type": "execute_result"
    },
    {
     "data": {
      "image/png": "[encoded data removed]",
      "text/plain": [
       "<Figure size 432x288 with 1 Axes>"
      ]
     },
     "metadata": {
      "needs_background": "light"
     },
     "output_type": "display_data"
    }
   ],
   "source": [
    "sns.kdeplot(train_final.Age)"
   ]
  },
  {
   "cell_type": "markdown",
   "id": "d39c782c",
   "metadata": {},
   "source": [
    "## Approach"
   ]
  },
  {
   "cell_type": "markdown",
   "id": "e03379eb",
   "metadata": {},
   "source": [
    "I decided to use MARS and Bagged MARS, Bagged Trees, Random Forest, and XGBoost. I anticipated extraordinarily long run times with grid searching, some taking hours to complete. Upon first creating the models, I ran into some problems with models computing particular observations within the dataset, which led to the discovery of just how dirty the dataset was and the solutions found in the data preparation section of this report. Otherwise, no major problems were encountered.\n",
    "\n",
    "There are already solutions posted on Kaggle; however, these solutions pertained to classification instead of regression. Thus, the solutions and strategies were considerable different from those found online."
   ]
  },
  {
   "cell_type": "markdown",
   "id": "acab331a",
   "metadata": {},
   "source": [
    "## Developing the Model: Hyperparameter Tuning"
   ]
  },
  {
   "cell_type": "markdown",
   "id": "ea422beb",
   "metadata": {},
   "source": [
    "### MARS and Bagged MARS"
   ]
  },
  {
   "cell_type": "markdown",
   "id": "a531d076",
   "metadata": {},
   "source": [
    "The first steps in creating the MARS model was to run through a 5-fold cross validation to find the optimal degrees for the model. Using maximum_term=1000 and a degree range from 1 to 10, the results yielded an optimum degree of 2 with a test RMSE of **64.582452**. Further investigation of the model showed 19 degrees of freedom, excluding the intercept. Below is the final MARS model:\n",
    "\n",
    "*MARS = Earth(max_terms=1000, max_degree=2, feature_importance_type= 'rss')*\n",
    "\n",
    "This model is able to be improved by using MARS as the base estimator in a bagging model. The following hyperparameters were investigated:\n",
    "\n",
    "`n_estimators`: determines the number of decision trees that will be created in the ensemble. \n",
    "\n",
    "`max_samples`: controls the number or proportion of samples from the training data that will be randomly selected for each tree.\n",
    "\n",
    "`max_features`: determines the number or proportion of features to consider when looking for the best split during the construction of each tree.\n",
    "\n",
    "Searching through the following grid search yielded a test RMSE greater than that of the initial MARS model of **65.18251923571461**:\n",
    "\n",
    "       {'n_estimators': [200, 300, 400],\n",
    "        'max_samples': [1.0, 1.5],\n",
    "        'max_features': [0.25, 0.5, 0.75]}\n",
    "\n",
    "The model needs finer tuning after these initial results. Upon further investigation and testing of parameters using a few random searches, the following grid search yielded the best test RMSE of **61.90342908024614** using a 'max_features' of 0.5, a 'max_samples' of 1.0, and an 'n_estimators' of 200:\n",
    "\n",
    "        {'n_estimators': [100,150,200],\n",
    "         'max_samples': [0.5,1.0],\n",
    "         'max_features': [0.5,1.0],}\n",
    "\n",
    "Below is the final model used in the ensemble model:\n",
    "\n",
    "*model1 = BaggingRegressor(base_estimator=MARS, n_estimators=250, random_state=1,\n",
    "                        oob_score=True,n_jobs=-1,bootstrap_features=True,bootstrap=True,\n",
    "                        max_features=1.0,max_samples=1.0)*"
   ]
  },
  {
   "cell_type": "markdown",
   "id": "b78fbd0e",
   "metadata": {},
   "source": [
    "### Bagged Trees"
   ]
  },
  {
   "cell_type": "markdown",
   "id": "43ea079b",
   "metadata": {},
   "source": [
    "In my Bagged trees models, the first thing I did was graph the OOB R-squared and R-squred on the train data vs the number of trees, which basically narrowed down my n_estimators to around 150-250. This is where I started in my grid search. The paramaters of my first grid search and the results are below: \n",
    "Paramaters of Coarse Grid:  \n",
    "        \n",
    "        {'n_estimators': [150,200,250],\n",
    "          'max_samples': [0.5,1.0],\n",
    "          'max_features': [0.5,1.0],\n",
    "          'bootstrap': [True, False],\n",
    "          'bootstrap_features': [True, False]}\n",
    "          \n",
    " \n",
    "Optimal parameters of Coarse Grid: \n",
    "\n",
    "        {'bootstrap': True, \n",
    "        'bootstrap_features': False, \n",
    "        'max_features': 0.5, \n",
    "        'max_samples': 1.0, \n",
    "        'n_estimators': 250}\n",
    " \n",
    "Test RMSE Grid Search: **62.63951642827617**\n",
    "\n",
    "\n",
    "From these results, I decided to increase the range of n_estimators from 150-250 to 250-350, the range of the max_features from [.5, 1] to [.4, .5, .6], and I kept bootstrap and boostrap_features the same to encompass both True and False values. \n",
    "\n",
    "\n",
    "Finer Grid Search 1: \n",
    "Parameters of Finer Grid 1: \n",
    "\n",
    "         {'n_estimators': [250, 300, 350],\n",
    "          'max_samples': [1.0],\n",
    "          'max_features': [0.4, 0.5, 0.6],\n",
    "          'bootstrap': [True],\n",
    "          'bootstrap_features': [True, False]}\n",
    " \n",
    "Optimal paramters of Finer Grid 1: \n",
    "\n",
    "\n",
    "        {'bootstrap': True, \n",
    "        'bootstrap_features': True, \n",
    "        'max_features': 0.6,\n",
    "        'max_samples': 1.0, \n",
    "        'n_estimators': 350}\n",
    "Test RMSE Finer Grid 1: **62.3023511506021**\n",
    "\n",
    "From this finer grid search, I was able to decrease the Test RMSE by .3. Thus, for my second finer grid serch I increased the range of n_estimators to [350, 500], and kept the max_features the same. This finer grid search yielded a test RMSE of **62.363417489451514**, which was basically an increase so I realized I was going in the wrong direction. For my third and final grid search, I decided to use the max_features of [0.5, 1], and increase the range of n_estimators to [250, 400] to make sure I was not overlooking any better combination. The third finer grid search is below:\n",
    "\n",
    "Finer Grid Search 3: \n",
    "Parameters of Finer Grid 3: \n",
    "\n",
    "        {'n_estimators': [250, 300, 400],\n",
    "          'max_samples': [1.0],\n",
    "          'max_features': [0.4, 0.5, 0.6, 1.0],\n",
    "          'bootstrap': [True],\n",
    "          'bootstrap_features': [True, False]}\n",
    "\n",
    "Optimal parameters of Finer Grid 3: \n",
    "\n",
    "        {'bootstrap': True, \n",
    "        'bootstrap_features': False, \n",
    "        'max_features': 0.5,\n",
    "        'max_samples': 1.0, \n",
    "        'n_estimators': 400}\n",
    "        \n",
    "This got my final test RMSE to **62.27130373550364**, which is the lowest RMSE of the 4 total grid searches. "
   ]
  },
  {
   "cell_type": "markdown",
   "id": "2916849c",
   "metadata": {},
   "source": [
    "### Random Forest"
   ]
  },
  {
   "cell_type": "markdown",
   "id": "e2605b75",
   "metadata": {},
   "source": [
    "For Random Forest, the first thing I did was plot the number of tress (n_estimators) against RMSE to see if there was an optimal n_estimators where RMSE seemed to stabilize. The graph showed that 400-500 n_estimators gave the lowest RMSE, and after testing around, I found that around 450 n_estimaros was a good number to fix the hyper parameter to.\n",
    "\n",
    "Using that, I started my course grid search by looking first at, on top of n_estimators, max_depth, max_leaf_nodes, and max_features. The hyperparameter grid was:\n",
    "\n",
    "          {'max_depth': [12,15,18],\n",
    "          'max_leaf_nodes':[1100,1200,1300],\n",
    "          'max_features': list(range(1,20))}\n",
    " \n",
    "and the optimal parameters for the initial course grid were (18, 1100, 3). This initial course grid gave me an RMSE of **61.291055**. \n",
    "\n",
    "What I noticed from this course grid was that the optimal max_depth and max_leaf_nodes were at the top of the range. I moved the range of those two hyperparameters to include higher numbers in the next course grid. I noticed that max_features gave a really low optimal number (3). What I did was then hone into a smaller range for my next grid. The hyperparameter grid of my first finer grid was:\n",
    "\n",
    "          {'max_depth': range(15, 25, 3),\n",
    "          'max_leaf_nodes':range(1300, 1600, 100),\n",
    "          'max_features': list(range(1,5))}\n",
    "          \n",
    "and the optimal parameters for this grid search were (21, 1300, 3). This grid search gave me an RMSE of **61.41167**.  From this grid search, the optimal hyperparameters were returning numbers fairly in the middle of the range that I inputed. However, because I got a slightly higher RMSE than the course grid, I played around a little more with max_leaf_nodes and found that the optimal was always between 1300-1500, so I kept that range the same. Similarly, for max_depth, I ran different ranges and the optimal was always between 20-24. For my last grid search, I played around with other hyperparameters, and I found that only the bootstrap hyperparameter provided further improvement to the model. My last grid search was:\n",
    "\n",
    "          {'max_depth': range(15, 25, 3),\n",
    "          'max_leaf_nodes':range(1300, 1600, 100),\n",
    "          'max_features': list(range(1,5)),\n",
    "          'bootstrap': [True, False]}\n",
    "          \n",
    "The optimal parameters for this search was (24, 1300, 2, False). This gave me the lowest RMSE of **61.1911**. \n",
    "\n"
   ]
  },
  {
   "cell_type": "markdown",
   "id": "37f552ef",
   "metadata": {},
   "source": [
    "### XGBoost"
   ]
  },
  {
   "cell_type": "markdown",
   "id": "70f57ee6",
   "metadata": {},
   "source": [
    "For my XGBoost model, I wanted to tune `max_depth`, `learning_rate`, `reg_lambda`, `n_estimators`, `gamma`, `subsample`, and `colsample_bytree`. I first ran a two-fold course grid search using RandomizedSearchCV where `n_iter = 200` with the following parameters: \n",
    "\n",
    "          {'max_depth': [5,6,7],\n",
    "          'learning_rate': [0.01,0.1],\n",
    "          'reg_lambda':[0,1,10],\n",
    "          'n_estimators':[1000, 2000, 3000],\n",
    "          'gamma': [50,100],\n",
    "          'subsample': [0.5,0.75,1.0],\n",
    "          'colsample_bytree': [0.2,0.4]}\n",
    "\n",
    "From this initial course grid search, I found the optimal hyperparameters to be: \n",
    "\n",
    "          {'subsample': 0.75, \n",
    "          'reg_lambda': 0, \n",
    "          'n_estimators': 1000, \n",
    "          'max_depth': 7, \n",
    "          'learning_rate': 0.01, \n",
    "          'gamma': 100, \n",
    "          'colsample_bytree': 0.2}\n",
    "\n",
    "These hyperparameters gave me a test RMSE of **62.478267689982445**. Before performing a finer grid search, I visualized the 2-fold mean test scores with each of the hyperparameter values considered. I found that increasing `max_depth` and lowering `n_estimators` seemed to lower RMSE. Taking these observations into account for my first finer grid search, I ran a five-fold grid search using RandomizedSearchCV where `n_iters = 200` with the following parameters: \n",
    "\n",
    "           {'max_depth': [6,7,8],\n",
    "           'learning_rate': [0.01, 0.05, 0.1],\n",
    "           'reg_lambda':[0, 1, 10],\n",
    "           'n_estimators':[100, 500, 1000],\n",
    "           'gamma': [0, 10, 50],\n",
    "           'subsample': [0.5, 0.75, 1.0],\n",
    "           'colsample_bytree': [0.2, 0.4, 0.75]}\n",
    "From this first finer grid search, I found the optimal hyperparameters to be: \n",
    "\n",
    "           {'subsample': 1.0, \n",
    "           'reg_lambda': 1, \n",
    "           'n_estimators': 1000, \n",
    "           'max_depth': 8, \n",
    "           'learning_rate': 0.01, \n",
    "           'gamma': 10, \n",
    "           'colsample_bytree': 0.4}\n",
    "These hyperparameters gave me a test RMSE of **62.36942585234199**. I wanted to see if I could still get the test RMSE lower by using more specific values. I decided to run another five-fold grid search using RandomizedSearchCV where `n_iters = 200` with the following parameters:\n",
    "\n",
    "            {'max_depth': [7,8],\n",
    "            'learning_rate': [0.01,0.0088],\n",
    "            'reg_lambda':[0.4],\n",
    "            'n_estimators':[1000,1650],\n",
    "            'gamma': [10,15],\n",
    "            'subsample': [0.5,0.75],\n",
    "            'colsample_bytree': [0.4]}\n",
    "My final optimal hyperparameters from this grid search were: \n",
    "    \n",
    "            {'subsample': 0.75, \n",
    "            'reg_lambda': 0.4, \n",
    "            'n_estimators': 1000, \n",
    "            'max_depth': 8, \n",
    "            'learning_rate': 0.0088, \n",
    "            'gamma': 15, \n",
    "            'colsample_bytree': 0.4}\n",
    "My final test RMSE was: **62.148381497806774**."
   ]
  },
  {
   "cell_type": "markdown",
   "id": "be2594f1",
   "metadata": {},
   "source": [
    "## Model Ensemble "
   ]
  },
  {
   "cell_type": "markdown",
   "id": "db8e3d51",
   "metadata": {},
   "source": [
    "For model ensembling, I created both voting and stacking ensemble models."
   ]
  },
  {
   "cell_type": "markdown",
   "id": "66c5924a",
   "metadata": {},
   "source": [
    "### Voting ensemble"
   ]
  },
  {
   "cell_type": "markdown",
   "id": "78a31cb2",
   "metadata": {},
   "source": [
    "For voting ensemble, I created a model that utilized all four individual models (bagged MARS, bagged trees, random forest, and XGBoost) with equal weights. I achieved an RMSE of **61.593737837648646**."
   ]
  },
  {
   "cell_type": "markdown",
   "id": "bcff4cda",
   "metadata": {},
   "source": [
    "### Stacking ensemble"
   ]
  },
  {
   "cell_type": "markdown",
   "id": "ca856140",
   "metadata": {},
   "source": [
    "For stacking ensemble, I also utilized all four of the individual models. I decided to use linear regression as the meta model. I was able to achieve an RMSE of **61.44450740075918**, which is slightly lower than the voting ensemble model. Therefore, I used the stacking ensemble as my final model."
   ]
  },
  {
   "cell_type": "markdown",
   "id": "1b46343d",
   "metadata": {},
   "source": [
    "## Limitations of the Model with Regard to Prediction"
   ]
  },
  {
   "cell_type": "markdown",
   "id": "86e8a813",
   "metadata": {},
   "source": [
    "It is possible that the individual models could be better tuned. If I had more time/resources, I would have ran finer grid searches with very specific values to determine if the models are particularly sensitive to a certain hyperparameter. For XGBoost, I used RandomizedSearchCV instead of GridSearchCV because the code took particularly long to run. Using 5-fold GridSearchCV might yield more precise optimal results. However, since I achieved fairly similar RMSE results from all the models I tuned, it is unlikely that better tuning would result in significantly lower RMSE values. \n",
    "\n",
    "Another limitation of my models is that I had to do a lot of cleaning. Some of the predictor values in the dataset were very unrealistic (for example, some of the values in the `Age` column were in the thousands), so I had to drop these rows. Because of this, the bagging and random forest models did better compared to XGBoost.\n",
    "\n",
    "In the US, credit scores are used to measure the risk of an individual as a borrower. I believe that my model will continue to be useful as long as the current methods of calculating credit scores remain consistent. However, it is imperative to take into account any new trends or patterns that might change the relative importance of the predictors so that I can ensure that the model is continuing to provide useful insights and predictions. "
   ]
  },
  {
   "cell_type": "markdown",
   "id": "62a185cb",
   "metadata": {},
   "source": [
    "## Conclusion"
   ]
  },
  {
   "cell_type": "markdown",
   "id": "7f4564f8",
   "metadata": {},
   "source": [
    "Based on the model, I have drawn conclusions that can provide valuable insights and recommendations. \n",
    "\n",
    "For lenders, I recommend ensuring that borrowers understand the important predictors that influence interest rates. This can be achieved by establishing clear and transparent communication channels with borrowers, educating them about the factors that impact interest rates. Lenders should also provide personalized feedback on borrowers' credit scores, highlighting specific areas for improvement to help them secure better rates. Additionally, offering financial literacy programs or resources can empower borrowers to make informed financial decisions and improve their credit.\n",
    "\n",
    "For borrowers, I recommend understanding the predictors that influence credit scores to make better financial decisions. Lenders should provide borrowers with regular access to their credit reports and scores, enabling them to monitor their financial standing and identify areas for improvement. Furthermore, educating borrowers about responsible financial behavior, such as making timely payments, maintaining low credit utilization, and diversifying credit types, is crucial for long-term credit improvement.\n",
    "\n",
    "It is important to be aware of the limitations of the model. Credit scores are not the sole determinant of creditworthiness, and other factors such as income, employment history, and debt-to-income ratio should be considered. Additionally, the accuracy of the model may vary based on the quality and completeness of customer information. Therefore, individuals must ensure the use of reliable and up-to-date data for predictions.\n",
    "\n",
    "Regarding the model's future use, it can be updated periodically using recent data to improve accuracy and relevance. Individuals should establish a process for regular model updates, considering new trends, changing lending practices, and advancements in credit-scoring methodologies. The frequency of updates should be determined based on the availability of fresh data and the rate of change in the lending landscape.\n",
    "\n",
    "My final hope is that this collaborative effort will result in better financial outcomes for individuals, improved risk assessment for lenders, and a more inclusive credit environment overall."
   ]
  }
 ],
 "metadata": {
  "kernelspec": {
   "display_name": "Python 3 (ipykernel)",
   "language": "python",
   "name": "python3"
  },
  "language_info": {
   "codemirror_mode": {
    "name": "ipython",
    "version": 3
   },
   "file_extension": ".py",
   "mimetype": "text/x-python",
   "name": "python",
   "nbconvert_exporter": "python",
   "pygments_lexer": "ipython3",
   "version": "3.9.12"
  }
 },
 "nbformat": 4,
 "nbformat_minor": 5
}
