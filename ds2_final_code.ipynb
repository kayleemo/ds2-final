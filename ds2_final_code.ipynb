{
 "cells": [
  {
   "cell_type": "markdown",
   "id": "fe7ea9bb",
   "metadata": {
    "id": "fe7ea9bb"
   },
   "source": [
    "# Data Quality Check / Cleaning / Preparation "
   ]
  },
  {
   "cell_type": "code",
   "execution_count": 1,
   "id": "19f1fd56",
   "metadata": {
    "id": "19f1fd56"
   },
   "outputs": [],
   "source": [
    "import warnings\n",
    "warnings.filterwarnings(\"ignore\")\n",
    "\n",
    "import pandas as pd\n",
    "import numpy as np\n",
    "import statsmodels.formula.api as smf\n",
    "import statsmodels.api as sm\n",
    "import seaborn as sns\n",
    "import matplotlib.pyplot as plt\n",
    "from patsy import dmatrix\n",
    "from sklearn.metrics import mean_squared_error\n",
    "from pyearth import Earth\n",
    "from sklearn.metrics import roc_curve, precision_recall_curve, auc, make_scorer, recall_score, accuracy_score, precision_score, confusion_matrix\n",
    "from sklearn.linear_model import LinearRegression, LogisticRegression\n",
    "from sklearn.model_selection import train_test_split, cross_val_predict, cross_val_score, cross_validate\n",
    "from patsy import dmatrix\n",
    "import statsmodels.formula.api as smf\n",
    "from sklearn.model_selection import cross_val_predict\n",
    "from sklearn.metrics import accuracy_score, mean_absolute_error, mean_squared_error, r2_score, roc_curve, auc, precision_score, recall_score, confusion_matrix\n",
    "\n",
    "from sklearn.model_selection import KFold, StratifiedKFold\n",
    "from sklearn.tree import DecisionTreeRegressor, DecisionTreeClassifier\n",
    "from sklearn.model_selection import GridSearchCV, ParameterGrid\n",
    "from sklearn.ensemble import BaggingRegressor,BaggingClassifier,RandomForestClassifier, RandomForestRegressor\n",
    "from sklearn.linear_model import LinearRegression\n",
    "from sklearn.metrics import SCORERS\n",
    "\n",
    "#Libraries for visualizing trees\n",
    "from sklearn.tree import export_graphviz\n",
    "from six import StringIO\n",
    "from IPython.display import Image\n",
    "\n",
    "#import pydotplus\n",
    "import time as tm\n",
    "\n",
    "import itertools as it\n",
    "\n",
    "import pandas as pd\n",
    "import numpy as np\n",
    "import seaborn as sns\n",
    "import matplotlib.pyplot as plt\n",
    "from sklearn.metrics import mean_squared_error\n",
    "from sklearn.model_selection import cross_val_score,train_test_split, KFold, cross_val_predict\n",
    "from sklearn.metrics import mean_squared_error,r2_score,roc_curve,auc,precision_recall_curve, accuracy_score, \\\n",
    "recall_score, precision_score, confusion_matrix\n",
    "from sklearn.tree import DecisionTreeRegressor,DecisionTreeClassifier\n",
    "from sklearn.model_selection import GridSearchCV, ParameterGrid, StratifiedKFold, RandomizedSearchCV\n",
    "from sklearn.ensemble import VotingRegressor, VotingClassifier, StackingRegressor, StackingClassifier, GradientBoostingRegressor,GradientBoostingClassifier, BaggingRegressor,BaggingClassifier,RandomForestRegressor,RandomForestClassifier,AdaBoostRegressor,AdaBoostClassifier\n",
    "from sklearn.linear_model import LinearRegression,LogisticRegression, LassoCV, RidgeCV, ElasticNetCV\n",
    "from sklearn.neighbors import KNeighborsRegressor\n",
    "import itertools as it\n",
    "import time as time\n",
    "import xgboost as xgb"
   ]
  },
  {
   "cell_type": "code",
   "execution_count": 2,
   "id": "cRMyPyo_9BZd",
   "metadata": {
    "id": "cRMyPyo_9BZd"
   },
   "outputs": [],
   "source": [
    "# Load train and test dataset\n",
    "train = pd.read_csv('train.csv')\n",
    "test = pd.read_csv('test.csv')"
   ]
  },
  {
   "cell_type": "markdown",
   "id": "371a5a4a",
   "metadata": {
    "id": "371a5a4a"
   },
   "source": [
    "### Distribution of Response Variable"
   ]
  },
  {
   "cell_type": "code",
   "execution_count": null,
   "id": "b868f6b5",
   "metadata": {
    "id": "b868f6b5",
    "outputId": "b472d016-62e2-46bf-9482-ecf73fa5ff58"
   },
   "outputs": [
    {
     "data": {
      "image/png": "[encoded data removed]",
      "text/plain": [
       "<Figure size 576x432 with 1 Axes>"
      ]
     },
     "metadata": {},
     "output_type": "display_data"
    },
    {
     "name": "stdout",
     "output_type": "stream",
     "text": [
      "Statistical Summary of Response \"Credit_Rating\":\n"
     ]
    },
    {
     "data": {
      "text/plain": [
       "count    8035.000000\n",
       "mean      617.806647\n",
       "std        75.328184\n",
       "min       356.061374\n",
       "25%       594.703110\n",
       "50%       629.308282\n",
       "75%       663.400126\n",
       "max       728.213085\n",
       "Name: Credit_Rating, dtype: float64"
      ]
     },
     "execution_count": 8,
     "metadata": {},
     "output_type": "execute_result"
    }
   ],
   "source": [
    "#Plot for distribution of response\n",
    "fig, ax = plt.subplots(figsize=(8, 6))\n",
    "\n",
    "sns.kdeplot(train_final['Credit_Rating'], ax=ax)\n",
    "\n",
    "ax.set_title(\"Distribution of the response 'Credit_Rating'\")\n",
    "ax.set_xlabel('Credit Rating')\n",
    "ax.set_ylabel('Density')\n",
    "plt.show()\n",
    "\n",
    "# Mean and standard deviation of response\n",
    "print('Statistical Summary of Response \"Credit_Rating\":')\n",
    "train_final['Credit_Rating'].describe().T"
   ]
  },
  {
   "cell_type": "markdown",
   "id": "ff6b5e83",
   "metadata": {
    "id": "ff6b5e83"
   },
   "source": [
    "### Data Cleaning & Preparation"
   ]
  },
  {
   "cell_type": "markdown",
   "id": "86e071ce",
   "metadata": {
    "id": "86e071ce"
   },
   "source": [
    "The following data preparation steps helped me to prepare the data for implementing various modeling / validation techniques:\n",
    "\n",
    "1. Since I wanted to frame the problem as regression, I needed to create a new continuous variable \"Credit_Rating\" by assigning ranged random values based on \"Poor,\" \"Standard,\" and \"Good\" credit scores found in the column \"Credit_Score\". \n",
    "\n",
    "2. NAN values and outliers were removed to improve model accuracy and RMSE scores.\n",
    "\n",
    "3. The training dataset was split with test_size = 0.2 and random_state = 45"
   ]
  },
  {
   "cell_type": "code",
   "execution_count": 3,
   "id": "84a7fab2",
   "metadata": {
    "colab": {
     "base_uri": "https://localhost:8080/"
    },
    "id": "84a7fab2",
    "outputId": "651a5647-927f-4a14-8d7d-fcf31b0232b9"
   },
   "outputs": [
    {
     "name": "stdout",
     "output_type": "stream",
     "text": [
      "['Age', 'Annual_Income', 'Monthly_Inhand_Salary', 'Num_Bank_Accounts', 'Num_Credit_Card', 'Num_of_Loan', 'Num_of_Delayed_Payment', 'Changed_Credit_Limit', 'Num_Credit_Inquiries', 'Outstanding_Debt', 'Credit_Utilization_Ratio', 'Total_EMI_per_month', 'Amount_invested_monthly', 'Monthly_Balance', 'Credit_Rating']\n"
     ]
    }
   ],
   "source": [
    "#Creating new response 'Credit_Rating'\n",
    "train['Credit_Rating'] = 0\n",
    "train['Credit_Rating'] = np.where(train['Credit_Score'] == 'Good',\n",
    "                          np.random.uniform(670, 730, size=len(train)),\n",
    "                          train['Credit_Rating'])\n",
    "\n",
    "train['Credit_Rating'] = np.where(train['Credit_Score'] == 'Standard',\n",
    "                          np.random.uniform(580, 670, size=len(train)),\n",
    "                          train['Credit_Rating'])\n",
    "\n",
    "train['Credit_Rating'] = np.where(train['Credit_Score'] == 'Poor',\n",
    "                          np.random.uniform(0, 580, size=len(train)),\n",
    "                          train['Credit_Rating'])\n",
    "\n",
    "\n",
    "\n",
    "#Drop irrelevant columns\n",
    "columns_to_drop = ['Customer_ID', 'ID','Month', 'Name', 'SSN', 'Interest_Rate','Occupation',\n",
    "                    'Type_of_Loan', 'Delay_from_due_date', 'Payment_Behaviour', 'Credit_History_Age', 'Credit_Score']\n",
    "\n",
    "train.drop(columns_to_drop, axis=1, inplace=True)\n",
    "\n",
    "#Removing invalid characters from columns\n",
    "mix_type_num_col = ['Age', 'Annual_Income', \n",
    "                    'Num_of_Delayed_Payment','Changed_Credit_Limit',\n",
    "                    'Outstanding_Debt', 'Amount_invested_monthly', 'Monthly_Balance', 'Num_of_Loan']\n",
    "\n",
    "#Set non numeric values in the dataset to numeric\n",
    "def set_numeric_columns(features,df=None):\n",
    "\n",
    "    df[features]=df[features].apply(lambda x: x.replace('_','',regex=True) )\n",
    "    df[features]=df[features].apply(lambda x: x.str.strip())\n",
    "    df[features]=df[features].apply(lambda x: x.replace('',np.nan))\n",
    "    df[features[1:]]=df[features[1:]].astype('float32')\n",
    "    df[features[0]]=df[features[0]].astype('int32')\n",
    "\n",
    "set_numeric_columns(mix_type_num_col,df=train)\n",
    "\n",
    "#Drop NA values\n",
    "train = train.dropna()\n",
    "\n",
    "\n",
    "#Narrow down dataset to legitimate values\n",
    "train = train.loc[train.Credit_Mix != \"_\"]\n",
    "train = train.loc[train.Payment_of_Min_Amount != \"NM\"]\n",
    "\n",
    "\n",
    "#Convert all categorical columns to quantitative variables\n",
    "train_dummies = pd.get_dummies(train)\n",
    "\n",
    "\n",
    "#Distinguish the various X and Y datasets for training and testing\n",
    "y = train_dummies.Credit_Rating\n",
    "X = train_dummies.drop(columns = 'Credit_Rating')\n",
    "X_train, X_test, y_train, y_test = train_test_split(X, y, test_size = 0.2, random_state = 45)\n",
    "\n",
    "X = X_train[X_train.columns]\n",
    "y = y_train\n",
    "\n",
    "\n",
    "#Remove outliers to decrease training RMSE (there were a lot)\n",
    "numerics = ['int16', 'int32', 'int64', 'float16', 'float32', 'float64']\n",
    "def remove_outliers(df, columns, threshold=3):\n",
    "    print(columns)\n",
    "    outliers_indices = []\n",
    "    for column_name in columns:\n",
    "        # Calculate the Z-scores for the specified column\n",
    "        z_scores = np.abs((df[column_name] - df[column_name].mean()) / df[column_name].std())\n",
    "        # Identify outliers based on the threshold\n",
    "        outliers_indices.extend(z_scores[z_scores > threshold].index)\n",
    "    \n",
    "    df_no_outliers = df.drop(outliers_indices)\n",
    "    return df_no_outliers\n",
    "\n",
    "train = remove_outliers(train, train.select_dtypes(include = numerics).columns.tolist(), threshold = 1)\n",
    "\n",
    "#Create final train and test datasets for models\n",
    "train_final = pd.get_dummies(train)\n",
    "y = train_final.Credit_Rating\n",
    "X = train_final.drop(columns = 'Credit_Rating')\n",
    "X_train, X_test, y_train, y_test = train_test_split(X, y, test_size = 0.2, random_state = 45)\n",
    "\n",
    "X = X_train[X_train.columns]\n",
    "y = y_train"
   ]
  },
  {
   "cell_type": "markdown",
   "id": "fbb11c9b",
   "metadata": {
    "id": "fbb11c9b"
   },
   "source": [
    "# Exploratory Data Analysis"
   ]
  },
  {
   "cell_type": "markdown",
   "id": "6973d81c",
   "metadata": {
    "id": "6973d81c"
   },
   "source": [
    "### Distribution of all predictors"
   ]
  },
  {
   "cell_type": "code",
   "execution_count": null,
   "id": "41eec66e",
   "metadata": {
    "id": "41eec66e",
    "outputId": "80500a6c-fc70-4dde-844f-69fd2fbf7667"
   },
   "outputs": [
    {
     "data": {
      "text/plain": [
       "<AxesSubplot:xlabel='Age', ylabel='Density'>"
      ]
     },
     "execution_count": 43,
     "metadata": {},
     "output_type": "execute_result"
    },
    {
     "data": {
      "image/png": "[encoded data removed]",
      "text/plain": [
       "<Figure size 432x288 with 1 Axes>"
      ]
     },
     "metadata": {},
     "output_type": "display_data"
    }
   ],
   "source": [
    "sns.kdeplot(train_final.Age)"
   ]
  },
  {
   "cell_type": "code",
   "execution_count": null,
   "id": "f696bb8d",
   "metadata": {
    "id": "f696bb8d",
    "outputId": "3323748d-9cc6-4f33-cc62-059d7ad1c6cf"
   },
   "outputs": [
    {
     "data": {
      "text/plain": [
       "<AxesSubplot:xlabel='Annual_Income', ylabel='Density'>"
      ]
     },
     "execution_count": 44,
     "metadata": {},
     "output_type": "execute_result"
    },
    {
     "data": {
      "image/png": "[encoded data removed]",
      "text/plain": [
       "<Figure size 432x288 with 1 Axes>"
      ]
     },
     "metadata": {},
     "output_type": "display_data"
    }
   ],
   "source": [
    "sns.kdeplot(train_final.Annual_Income)"
   ]
  },
  {
   "cell_type": "code",
   "execution_count": null,
   "id": "bc1fd91b",
   "metadata": {
    "id": "bc1fd91b",
    "outputId": "6e38c55b-447f-4051-8e1c-a7ebd8971b5b"
   },
   "outputs": [
    {
     "data": {
      "text/plain": [
       "<AxesSubplot:xlabel='Monthly_Inhand_Salary', ylabel='Density'>"
      ]
     },
     "execution_count": 45,
     "metadata": {},
     "output_type": "execute_result"
    },
    {
     "data": {
      "image/png": "[encoded data removed]",
      "text/plain": [
       "<Figure size 432x288 with 1 Axes>"
      ]
     },
     "metadata": {},
     "output_type": "display_data"
    }
   ],
   "source": [
    "sns.kdeplot(train_final.Monthly_Inhand_Salary)"
   ]
  },
  {
   "cell_type": "code",
   "execution_count": null,
   "id": "77ed24e6",
   "metadata": {
    "id": "77ed24e6",
    "outputId": "4c115309-e6e0-48fe-dc5a-c63a6deb59ba"
   },
   "outputs": [
    {
     "data": {
      "text/plain": [
       "<AxesSubplot:xlabel='Num_Bank_Accounts', ylabel='Density'>"
      ]
     },
     "execution_count": 46,
     "metadata": {},
     "output_type": "execute_result"
    },
    {
     "data": {
      "image/png": "[encoded data removed]",
      "text/plain": [
       "<Figure size 432x288 with 1 Axes>"
      ]
     },
     "metadata": {},
     "output_type": "display_data"
    }
   ],
   "source": [
    "sns.kdeplot(train_final.Num_Bank_Accounts)"
   ]
  },
  {
   "cell_type": "code",
   "execution_count": null,
   "id": "5bd0297b",
   "metadata": {
    "id": "5bd0297b",
    "outputId": "2e35e67f-2bc2-4a72-8162-4e211fb736ac"
   },
   "outputs": [
    {
     "data": {
      "text/plain": [
       "<AxesSubplot:xlabel='Num_Credit_Card', ylabel='Density'>"
      ]
     },
     "execution_count": 47,
     "metadata": {},
     "output_type": "execute_result"
    },
    {
     "data": {
      "image/png": "[encoded data removed]",
      "text/plain": [
       "<Figure size 432x288 with 1 Axes>"
      ]
     },
     "metadata": {},
     "output_type": "display_data"
    }
   ],
   "source": [
    "sns.kdeplot(train_final.Num_Credit_Card)"
   ]
  },
  {
   "cell_type": "code",
   "execution_count": null,
   "id": "6dc6b5db",
   "metadata": {
    "id": "6dc6b5db",
    "outputId": "65681116-f5d1-4f53-d061-3f6441d7c5a8"
   },
   "outputs": [
    {
     "data": {
      "text/plain": [
       "<AxesSubplot:xlabel='Num_of_Loan', ylabel='Density'>"
      ]
     },
     "execution_count": 48,
     "metadata": {},
     "output_type": "execute_result"
    },
    {
     "data": {
      "image/png": "[encoded data removed]",
      "text/plain": [
       "<Figure size 432x288 with 1 Axes>"
      ]
     },
     "metadata": {},
     "output_type": "display_data"
    }
   ],
   "source": [
    "sns.kdeplot(train_final.Num_of_Loan)"
   ]
  },
  {
   "cell_type": "code",
   "execution_count": null,
   "id": "7cdd5123",
   "metadata": {
    "id": "7cdd5123",
    "outputId": "cb66f3f3-4773-414e-8037-419213ba1791"
   },
   "outputs": [
    {
     "data": {
      "text/plain": [
       "<AxesSubplot:xlabel='Num_of_Delayed_Payment', ylabel='Density'>"
      ]
     },
     "execution_count": 49,
     "metadata": {},
     "output_type": "execute_result"
    },
    {
     "data": {
      "image/png": "[encoded data removed]",
      "text/plain": [
       "<Figure size 432x288 with 1 Axes>"
      ]
     },
     "metadata": {},
     "output_type": "display_data"
    }
   ],
   "source": [
    "sns.kdeplot(train_final.Num_of_Delayed_Payment)"
   ]
  },
  {
   "cell_type": "code",
   "execution_count": null,
   "id": "186c6c6e",
   "metadata": {
    "id": "186c6c6e",
    "outputId": "f39c673c-470f-4c6a-b886-557c3b5d2a96"
   },
   "outputs": [
    {
     "data": {
      "text/plain": [
       "<AxesSubplot:xlabel='Changed_Credit_Limit', ylabel='Density'>"
      ]
     },
     "execution_count": 50,
     "metadata": {},
     "output_type": "execute_result"
    },
    {
     "data": {
      "image/png": "[encoded data removed]",
      "text/plain": [
       "<Figure size 432x288 with 1 Axes>"
      ]
     },
     "metadata": {},
     "output_type": "display_data"
    }
   ],
   "source": [
    "sns.kdeplot(train_final.Changed_Credit_Limit)"
   ]
  },
  {
   "cell_type": "code",
   "execution_count": null,
   "id": "c27e2ae6",
   "metadata": {
    "id": "c27e2ae6",
    "outputId": "47b389a9-3edb-462a-c86e-b90e07859903"
   },
   "outputs": [
    {
     "data": {
      "text/plain": [
       "<AxesSubplot:xlabel='Num_Credit_Inquiries', ylabel='Density'>"
      ]
     },
     "execution_count": 51,
     "metadata": {},
     "output_type": "execute_result"
    },
    {
     "data": {
      "image/png": "[encoded data removed]",
      "text/plain": [
       "<Figure size 432x288 with 1 Axes>"
      ]
     },
     "metadata": {},
     "output_type": "display_data"
    }
   ],
   "source": [
    "sns.kdeplot(train_final.Num_Credit_Inquiries)"
   ]
  },
  {
   "cell_type": "code",
   "execution_count": null,
   "id": "fb226aa5",
   "metadata": {
    "id": "fb226aa5",
    "outputId": "61e150a6-6cb8-47b5-cce8-bb309680022c"
   },
   "outputs": [
    {
     "data": {
      "text/plain": [
       "<AxesSubplot:xlabel='Outstanding_Debt', ylabel='Density'>"
      ]
     },
     "execution_count": 52,
     "metadata": {},
     "output_type": "execute_result"
    },
    {
     "data": {
      "image/png": "[encoded data removed]",
      "text/plain": [
       "<Figure size 432x288 with 1 Axes>"
      ]
     },
     "metadata": {},
     "output_type": "display_data"
    }
   ],
   "source": [
    "sns.kdeplot(train_final.Outstanding_Debt)"
   ]
  },
  {
   "cell_type": "code",
   "execution_count": null,
   "id": "45b7ca5f",
   "metadata": {
    "id": "45b7ca5f",
    "outputId": "d68da263-167a-48e6-96a0-98898437911e"
   },
   "outputs": [
    {
     "data": {
      "text/plain": [
       "<AxesSubplot:xlabel='Credit_Utilization_Ratio', ylabel='Density'>"
      ]
     },
     "execution_count": 53,
     "metadata": {},
     "output_type": "execute_result"
    },
    {
     "data": {
      "image/png": "[encoded data removed]",
      "text/plain": [
       "<Figure size 432x288 with 1 Axes>"
      ]
     },
     "metadata": {},
     "output_type": "display_data"
    }
   ],
   "source": [
    "sns.kdeplot(train_final.Credit_Utilization_Ratio)"
   ]
  },
  {
   "cell_type": "code",
   "execution_count": null,
   "id": "bd93b247",
   "metadata": {
    "id": "bd93b247",
    "outputId": "85956e5a-0a7b-4dd6-dd9a-fa81a8c53130"
   },
   "outputs": [
    {
     "data": {
      "text/plain": [
       "<AxesSubplot:xlabel='Total_EMI_per_month', ylabel='Density'>"
      ]
     },
     "execution_count": 54,
     "metadata": {},
     "output_type": "execute_result"
    },
    {
     "data": {
      "image/png": "[encoded data removed]",
      "text/plain": [
       "<Figure size 432x288 with 1 Axes>"
      ]
     },
     "metadata": {},
     "output_type": "display_data"
    }
   ],
   "source": [
    "sns.kdeplot(train_final.Total_EMI_per_month)"
   ]
  },
  {
   "cell_type": "code",
   "execution_count": null,
   "id": "35f6049d",
   "metadata": {
    "id": "35f6049d",
    "outputId": "174f2a36-ba84-46f0-9429-ff52bdcee760"
   },
   "outputs": [
    {
     "data": {
      "text/plain": [
       "<AxesSubplot:xlabel='Amount_invested_monthly', ylabel='Density'>"
      ]
     },
     "execution_count": 55,
     "metadata": {},
     "output_type": "execute_result"
    },
    {
     "data": {
      "image/png": "[encoded data removed]",
      "text/plain": [
       "<Figure size 432x288 with 1 Axes>"
      ]
     },
     "metadata": {},
     "output_type": "display_data"
    }
   ],
   "source": [
    "sns.kdeplot(train_final.Amount_invested_monthly)"
   ]
  },
  {
   "cell_type": "code",
   "execution_count": null,
   "id": "67a1d92a",
   "metadata": {
    "id": "67a1d92a",
    "outputId": "8b6d3e6c-0bed-4874-8ca6-a5ddafa3093c"
   },
   "outputs": [
    {
     "data": {
      "text/plain": [
       "<AxesSubplot:xlabel='Monthly_Balance', ylabel='Density'>"
      ]
     },
     "execution_count": 56,
     "metadata": {},
     "output_type": "execute_result"
    },
    {
     "data": {
      "image/png": "[encoded data removed]",
      "text/plain": [
       "<Figure size 432x288 with 1 Axes>"
      ]
     },
     "metadata": {},
     "output_type": "display_data"
    }
   ],
   "source": [
    "sns.kdeplot(train_final.Monthly_Balance)"
   ]
  },
  {
   "cell_type": "code",
   "execution_count": null,
   "id": "28304687",
   "metadata": {
    "id": "28304687",
    "outputId": "16a66165-4f88-4637-e8e0-79baa406f889"
   },
   "outputs": [
    {
     "data": {
      "text/plain": [
       "<AxesSubplot:xlabel='Credit_Rating', ylabel='Density'>"
      ]
     },
     "execution_count": 57,
     "metadata": {},
     "output_type": "execute_result"
    },
    {
     "data": {
      "image/png": "[encoded data removed]",
      "text/plain": [
       "<Figure size 432x288 with 1 Axes>"
      ]
     },
     "metadata": {},
     "output_type": "display_data"
    }
   ],
   "source": [
    "sns.kdeplot(train_final.Credit_Rating)"
   ]
  },
  {
   "cell_type": "code",
   "execution_count": null,
   "id": "89d40dbb",
   "metadata": {
    "id": "89d40dbb",
    "outputId": "1cc02f94-2900-49da-9427-dbcbea52c6b4"
   },
   "outputs": [
    {
     "data": {
      "image/png": "[encoded data removed]",
      "text/plain": [
       "<Figure size 432x288 with 1 Axes>"
      ]
     },
     "metadata": {},
     "output_type": "display_data"
    }
   ],
   "source": [
    "# Credit_Mix\n",
    "sns.countplot(x='Credit_Mix', data = train)\n",
    "plt.xlabel('Credit_Mix')\n",
    "plt.ylabel('Count')\n",
    "\n",
    "plt.show()"
   ]
  },
  {
   "cell_type": "code",
   "execution_count": null,
   "id": "7fbfc6aa",
   "metadata": {
    "id": "7fbfc6aa",
    "outputId": "fcebfb28-34f5-4853-cfbe-65b3ee0b631e"
   },
   "outputs": [
    {
     "data": {
      "image/png": "[encoded data removed]",
      "text/plain": [
       "<Figure size 432x288 with 1 Axes>"
      ]
     },
     "metadata": {},
     "output_type": "display_data"
    }
   ],
   "source": [
    "# Payment of Min Amount \n",
    "sns.countplot(x='Payment_of_Min_Amount', data = train)\n",
    "plt.xlabel('Payment_of_Min_Amount')\n",
    "plt.ylabel('Count')\n",
    "\n",
    "plt.show()"
   ]
  },
  {
   "cell_type": "markdown",
   "id": "acab331a",
   "metadata": {
    "id": "acab331a"
   },
   "source": [
    "# Developing the Model: Hyperparameter Tuning"
   ]
  },
  {
   "cell_type": "markdown",
   "id": "21bc9dcc",
   "metadata": {
    "id": "21bc9dcc"
   },
   "source": [
    "### MARS and Bagged MARS"
   ]
  },
  {
   "cell_type": "code",
   "execution_count": null,
   "id": "111fa69d",
   "metadata": {
    "id": "111fa69d",
    "outputId": "57c7cf2a-0ffb-41fe-caf2-92b2b9bcd82b"
   },
   "outputs": [
    {
     "name": "stdout",
     "output_type": "stream",
     "text": [
      "degree            2\n",
      "RMSE      64.582452\n",
      "Name: 1, dtype: object\n"
     ]
    }
   ],
   "source": [
    "# 5-fold cross validation finding optimal degree\n",
    "rmse_df = pd.DataFrame(columns = {'degree', 'RMSE'})\n",
    "cv = KFold(n_splits=5, random_state=1, shuffle=True)\n",
    "counter = 0\n",
    "for degree in np.arange(1, 10, 1):\n",
    "    rmse_df.loc[counter, 'RMSE'] = np.sqrt(np.mean(-cross_val_score(Earth(max_terms=1000, max_degree = degree),\n",
    "                                 X, y, scoring='neg_mean_squared_error', cv=cv, n_jobs=-1)))\n",
    "    rmse_df.loc[counter, 'degree'] = degree\n",
    "    counter = counter + 1\n",
    "    \n",
    "rmse_df.loc[np.argmin(rmse_df.RMSE),:]"
   ]
  },
  {
   "cell_type": "code",
   "execution_count": null,
   "id": "428fb8b7",
   "metadata": {
    "id": "428fb8b7",
    "outputId": "37ae51a3-aade-4148-e543-1344a1ff12ec",
    "scrolled": false
   },
   "outputs": [
    {
     "name": "stdout",
     "output_type": "stream",
     "text": [
      "Earth Model\n",
      "--------------------------------------------------------------------------------------\n",
      "Basis Function                                                  Pruned  Coefficient   \n",
      "--------------------------------------------------------------------------------------\n",
      "(Intercept)                                                     No      701.429       \n",
      "h(Outstanding_Debt-1044.78)                                     No      0.0291511     \n",
      "h(1044.78-Outstanding_Debt)                                     Yes     None          \n",
      "Credit_Mix_Good                                                 No      21.7809       \n",
      "Credit_Mix_Bad                                                  Yes     None          \n",
      "Credit_Mix_Standard*h(Outstanding_Debt-1044.78)                 No      -0.0519635    \n",
      "h(Num_Credit_Card-70)                                           Yes     None          \n",
      "h(70-Num_Credit_Card)                                           Yes     None          \n",
      "Num_Credit_Card*h(70-Num_Credit_Card)                           No      -0.0634978    \n",
      "h(Num_Credit_Inquiries-17)*h(70-Num_Credit_Card)                Yes     None          \n",
      "h(17-Num_Credit_Inquiries)*h(70-Num_Credit_Card)                Yes     None          \n",
      "h(Outstanding_Debt-1614.96)*h(Outstanding_Debt-1044.78)         No      0.000618387   \n",
      "h(1614.96-Outstanding_Debt)*h(Outstanding_Debt-1044.78)         Yes     None          \n",
      "h(Total_EMI_per_month-744.876)                                  Yes     None          \n",
      "h(744.876-Total_EMI_per_month)                                  No      -0.092563     \n",
      "h(Num_Credit_Inquiries-17)*Credit_Mix_Bad                       No      2.49375       \n",
      "h(17-Num_Credit_Inquiries)*Credit_Mix_Bad                       No      -7.591        \n",
      "Num_Credit_Inquiries*h(Outstanding_Debt-1044.78)                No      -0.00463445   \n",
      "h(Amount_invested_monthly-41.0008)*h(Outstanding_Debt-1044.78)  Yes     None          \n",
      "h(41.0008-Amount_invested_monthly)*h(Outstanding_Debt-1044.78)  No      0.00147192    \n",
      "h(Credit_Utilization_Ratio-37.3913)*Credit_Mix_Bad              No      -8082.54      \n",
      "h(37.3913-Credit_Utilization_Ratio)*Credit_Mix_Bad              No      -2.936        \n",
      "h(Total_EMI_per_month-130.442)                                  No      -0.00923683   \n",
      "h(130.442-Total_EMI_per_month)                                  No      0.119556      \n",
      "h(Outstanding_Debt-2181.17)*h(Outstanding_Debt-1044.78)         No      -0.000517224  \n",
      "h(2181.17-Outstanding_Debt)*h(Outstanding_Debt-1044.78)         Yes     None          \n",
      "h(Outstanding_Debt-1474.63)*h(Outstanding_Debt-1044.78)         No      -0.000439897  \n",
      "h(1474.63-Outstanding_Debt)*h(Outstanding_Debt-1044.78)         Yes     None          \n",
      "h(Age-56)*h(Outstanding_Debt-1044.78)                           No      -0.000769126  \n",
      "h(56-Age)*h(Outstanding_Debt-1044.78)                           Yes     None          \n",
      "h(Outstanding_Debt-2181.17)*h(744.876-Total_EMI_per_month)      No      0.000969294   \n",
      "h(2181.17-Outstanding_Debt)*h(744.876-Total_EMI_per_month)      Yes     None          \n",
      "h(Outstanding_Debt-1936.79)*h(744.876-Total_EMI_per_month)      No      -0.000256341  \n",
      "h(1936.79-Outstanding_Debt)*h(744.876-Total_EMI_per_month)      Yes     None          \n",
      "--------------------------------------------------------------------------------------\n",
      "MSE: 4198.2726, GCV: 4262.4912, RSQ: 0.2820, GRSQ: 0.2713\n"
     ]
    }
   ],
   "source": [
    "# MARS model summary\n",
    "model = Earth(max_terms=1000, max_degree=2, feature_importance_type= 'rss') \n",
    "model.fit(X,y)\n",
    "print(model.summary())"
   ]
  },
  {
   "cell_type": "code",
   "execution_count": null,
   "id": "69900b02",
   "metadata": {
    "id": "69900b02",
    "outputId": "bf97fca1-83c6-4db7-ed33-6f681b1c320d"
   },
   "outputs": [
    {
     "name": "stdout",
     "output_type": "stream",
     "text": [
      "Fitting 5 folds for each of 18 candidates, totalling 90 fits\n",
      "Best Parameters :  {'max_features': 0.5, 'max_samples': 1.0, 'n_estimators': 400}\n"
     ]
    }
   ],
   "source": [
    "# Initial 5-fold grid search using the following parameters\n",
    "params = {'n_estimators': [200, 300, 400],\n",
    "          'max_samples': [1.0, 1.5],\n",
    "          'max_features': [0.25, 0.5, 0.75]}\n",
    "\n",
    "cv = KFold(n_splits=5,shuffle=True,random_state=1)\n",
    "bagging_regressor_grid_finer1 = GridSearchCV(BaggingRegressor(random_state=1, n_jobs=-1), \n",
    "                                      param_grid =params, cv=cv, n_jobs=-1, verbose=1)\n",
    "bagging_regressor_grid_finer1.fit(X, y)\n",
    "\n",
    "print('Best Parameters : ',bagging_regressor_grid_finer1.best_params_)"
   ]
  },
  {
   "cell_type": "code",
   "execution_count": null,
   "id": "3301c5e7",
   "metadata": {
    "id": "3301c5e7",
    "outputId": "1e969b49-e762-4ded-c19e-702ebfbcb152"
   },
   "outputs": [
    {
     "name": "stdout",
     "output_type": "stream",
     "text": [
      "Test RMSE: 65.18251923571461\n"
     ]
    }
   ],
   "source": [
    "model = BaggingRegressor(base_estimator=model, n_estimators=400, random_state=1,\n",
    "                        oob_score=True,n_jobs=-1,bootstrap_features=True,bootstrap=True,\n",
    "                        max_features=1.0,max_samples=1.0).fit(X, y)\n",
    "\n",
    "RMSE = np.sqrt(mean_squared_error(y_test, model.predict(X_test)))\n",
    "print(RMSE)"
   ]
  },
  {
   "cell_type": "code",
   "execution_count": null,
   "id": "dea86975",
   "metadata": {
    "id": "dea86975",
    "outputId": "f0be9d05-ea3c-49ba-d2ac-4a7fb75a317a"
   },
   "outputs": [
    {
     "name": "stdout",
     "output_type": "stream",
     "text": [
      "Fitting 5 folds for each of 12 candidates, totalling 60 fits\n",
      "Best Parameters :  {'max_features': 0.5, 'max_samples': 1.0, 'n_estimators': 250}\n"
     ]
    }
   ],
   "source": [
    "# Alternate 5-fold grid search using the following parameters\n",
    "params = {'n_estimators': [250,300,350],\n",
    "          'max_samples': [0.5,0.4],\n",
    "          'max_features': [0.5,1.0],}\n",
    "\n",
    "cv = KFold(n_splits=5,shuffle=True,random_state=1)\n",
    "bagging_regressor_grid = GridSearchCV(BaggingRegressor(random_state=1, n_jobs=-1), \n",
    "                                      param_grid =params, cv=cv, n_jobs=-1, verbose=1)\n",
    "\n",
    "print('Best Parameters : ',bagging_regressor_grid.best_params_)"
   ]
  },
  {
   "cell_type": "code",
   "execution_count": null,
   "id": "7ae9cbad",
   "metadata": {
    "id": "7ae9cbad",
    "outputId": "b8cb59f1-8dc3-467f-a2ae-7e88062d1986"
   },
   "outputs": [
    {
     "name": "stdout",
     "output_type": "stream",
     "text": [
      "Test RMSE: 64.97269572938473\n"
     ]
    }
   ],
   "source": [
    "model = BaggingRegressor(base_estimator=model, n_estimators=250, random_state=1,\n",
    "                        oob_score=True,n_jobs=-1,bootstrap_features=True,bootstrap=True,\n",
    "                        max_features=0.5,max_samples=1.0).fit(X, y)\n",
    "\n",
    "RMSE = np.sqrt(mean_squared_error(y_test, model.predict(X_test)))\n",
    "print(\"Test RMSE:\",RMSE)"
   ]
  },
  {
   "cell_type": "code",
   "execution_count": null,
   "id": "0e0f78f5",
   "metadata": {
    "id": "0e0f78f5",
    "outputId": "4b5dfc73-435d-47d4-c0ec-7e19c638a22b"
   },
   "outputs": [
    {
     "name": "stdout",
     "output_type": "stream",
     "text": [
      "Fitting 5 folds for each of 12 candidates, totalling 60 fits\n",
      "Best Parameters :  {'max_features': 0.5, 'max_samples': 1.0, 'n_estimators': 200}\n"
     ]
    }
   ],
   "source": [
    "# BEST 5-fold grid search using the following parameters\n",
    "params = {'n_estimators': [200,225,250],\n",
    "          'max_samples': [0.5,0.6],\n",
    "          'max_features': [0.5,1.0],}\n",
    "\n",
    "cv = KFold(n_splits=5,shuffle=True,random_state=1)\n",
    "bagging_regressor_grid = GridSearchCV(BaggingRegressor(random_state=1, n_jobs=-1), \n",
    "                                      param_grid =params, cv=cv, n_jobs=-1, verbose=1)\n",
    "\n",
    "print('Best Parameters : ',bagging_regressor_grid.best_params_)"
   ]
  },
  {
   "cell_type": "code",
   "execution_count": 1,
   "id": "c64c6808",
   "metadata": {},
   "outputs": [
    {
     "name": "stdout",
     "output_type": "stream",
     "text": [
      "Test RMSE: 61.90342908024614\n"
     ]
    }
   ],
   "source": [
    "prmodel1 = BaggingRegressor(base_estimator=model, n_estimators=200, random_state=1,\n",
    "                        oob_score=True,n_jobs=-1,bootstrap_features=True,bootstrap=True,\n",
    "                        max_features=0.5,max_samples=1.0).fit(X, y)\n",
    "\n",
    "RMSE = np.sqrt(mean_squared_error(y_test, model.predict(X_test)))\n",
    "print(\"Test RMSE:\",RMSE)"
   ]
  },
  {
   "cell_type": "markdown",
   "id": "a67c9ff7",
   "metadata": {
    "id": "a67c9ff7"
   },
   "source": [
    "### Bagged Trees"
   ]
  },
  {
   "cell_type": "code",
   "execution_count": null,
   "id": "0c431858",
   "metadata": {
    "id": "0c431858",
    "outputId": "9c283800-c693-4a10-e782-388aa337d986"
   },
   "outputs": [
    {
     "name": "stdout",
     "output_type": "stream",
     "text": [
      "Fitting 5 folds for each of 96 candidates, totalling 480 fits\n",
      "Best Parameters :  {'base_estimator': DecisionTreeRegressor(random_state=1), 'bootstrap': True, 'bootstrap_features': False, 'max_features': 0.5, 'max_samples': 1.0, 'n_estimators': 250}\n"
     ]
    }
   ],
   "source": [
    "# Coarse Grid Search 1\n",
    "\n",
    "# create Grid paramaters\n",
    "params = {'base_estimator': [DecisionTreeRegressor(random_state = 1),LinearRegression()],#Comparing bagging with a linear regression model as well\n",
    "          'n_estimators': [150,200,250],\n",
    "          'max_samples': [0.5,1.0],\n",
    "          'max_features': [0.5,1.0],\n",
    "          'bootstrap': [True, False],\n",
    "          'bootstrap_features': [True, False]}\n",
    "\n",
    "# create k-fold\n",
    "cv = KFold(n_splits=5,shuffle=True,random_state=1)\n",
    "\n",
    "# bag trees using GridSearchCV and fit\n",
    "bagging_regressor_grid = GridSearchCV(BaggingRegressor(random_state=1, n_jobs=-1), \n",
    "                                      param_grid =params, cv=cv, n_jobs=-1, verbose=1)\n",
    "bagging_regressor_grid.fit(X, y)\n",
    "print('Best Parameters : ',bagging_regressor_grid.best_params_)"
   ]
  },
  {
   "cell_type": "code",
   "execution_count": null,
   "id": "0bd8a655",
   "metadata": {
    "id": "0bd8a655",
    "outputId": "0e9cc09b-8c17-4e09-91db-5766d75468d4"
   },
   "outputs": [
    {
     "name": "stdout",
     "output_type": "stream",
     "text": [
      "62.63951642827617\n"
     ]
    }
   ],
   "source": [
    "#Model with optimal parameters\n",
    "model = BaggingRegressor(base_estimator=DecisionTreeRegressor(), n_estimators=250, random_state=1,\n",
    "                        oob_score=True,n_jobs=-1,bootstrap_features=True,bootstrap=True,\n",
    "                        max_features=0.5,max_samples=1.0).fit(X, y)\n",
    "\n",
    "#RMSE on test data\n",
    "RMSE = np.sqrt(mean_squared_error(y_test, model.predict(X_test)))\n",
    "print(RMSE)"
   ]
  },
  {
   "cell_type": "code",
   "execution_count": null,
   "id": "7482e22d",
   "metadata": {
    "id": "7482e22d",
    "outputId": "1e286e2c-9225-4641-cec2-35e47ce6509a"
   },
   "outputs": [
    {
     "name": "stdout",
     "output_type": "stream",
     "text": [
      "Fitting 5 folds for each of 24 candidates, totalling 120 fits\n",
      "Best Parameters :  {'base_estimator': DecisionTreeRegressor(random_state=1), 'bootstrap': True, 'bootstrap_features': True, 'max_features': 0.6, 'max_samples': 1.0, 'n_estimators': 350}\n"
     ]
    }
   ],
   "source": [
    "# Finer Grid Search 1\n",
    "\n",
    "# create finer grid 1 \n",
    "params = {'base_estimator': [DecisionTreeRegressor(random_state = 1),LinearRegression()],#Comparing bagging with a linear regression model as well\n",
    "          'n_estimators': [250, 350],\n",
    "          'max_samples': [1.0],\n",
    "          'max_features': [0.4, 0.5, 0.6],\n",
    "          'bootstrap': [True],\n",
    "          'bootstrap_features': [True, False]}\n",
    "# create K-fold \n",
    "cv = KFold(n_splits=5,shuffle=True,random_state=1)\n",
    "\n",
    "# bag trees using GridSearchCV\n",
    "bagging_regressor_grid = GridSearchCV(BaggingRegressor(random_state=1, n_jobs=-1), \n",
    "                                      param_grid =params, cv=cv, n_jobs=-1, verbose=1)\n",
    "bagging_regressor_grid.fit(X, y)\n",
    "print('Best Parameters : ',bagging_regressor_grid.best_params_)"
   ]
  },
  {
   "cell_type": "code",
   "execution_count": null,
   "id": "a988f794",
   "metadata": {
    "id": "a988f794",
    "outputId": "ba8f15f5-6c63-413d-fdc5-296a54fbf0ca"
   },
   "outputs": [
    {
     "name": "stdout",
     "output_type": "stream",
     "text": [
      "62.3023511506021\n"
     ]
    }
   ],
   "source": [
    "#Model with optimal parameters\n",
    "model = BaggingRegressor(base_estimator=DecisionTreeRegressor(), n_estimators=350, random_state=1,\n",
    "                        oob_score=True,n_jobs=-1,bootstrap_features=False,bootstrap=True,\n",
    "                        max_features=.6,max_samples=1.0).fit(X, y)\n",
    "\n",
    "#RMSE on test data\n",
    "RMSE = np.sqrt(mean_squared_error(y_test, model.predict(X_test)))\n",
    "print(RMSE)"
   ]
  },
  {
   "cell_type": "code",
   "execution_count": null,
   "id": "41d3cf9e",
   "metadata": {
    "id": "41d3cf9e",
    "outputId": "f7b86330-8076-4c7e-c150-2e44e27eaaec"
   },
   "outputs": [
    {
     "name": "stdout",
     "output_type": "stream",
     "text": [
      "Fitting 5 folds for each of 32 candidates, totalling 160 fits\n",
      "Best Parameters :  {'base_estimator': DecisionTreeRegressor(random_state=1), 'bootstrap': True, 'bootstrap_features': True, 'max_features': 0.6, 'max_samples': 1.0, 'n_estimators': 400}\n"
     ]
    }
   ],
   "source": [
    "# Finer Grid Search 2\n",
    "\n",
    "# create finer grid 2 \n",
    "params = {'base_estimator': [DecisionTreeRegressor(random_state = 1),LinearRegression()],#Comparing bagging with a linear regression model as well\n",
    "          'n_estimators': [350, 400],\n",
    "          'max_samples': [0.5,1.0],\n",
    "          'max_features': [0.6,1.0],\n",
    "          'bootstrap': [True],\n",
    "          'bootstrap_features': [True, False]}\n",
    "# create K-fold \n",
    "cv = KFold(n_splits=5,shuffle=True,random_state=1)\n",
    "\n",
    "# bag trees using Gr\n",
    "bagging_regressor_grid = GridSearchCV(BaggingRegressor(random_state=1, n_jobs=-1), \n",
    "                                      param_grid =params, cv=cv, n_jobs=-1, verbose=1)\n",
    "bagging_regressor_grid.fit(X, y)\n",
    "print('Best Parameters : ',bagging_regressor_grid.best_params_)"
   ]
  },
  {
   "cell_type": "code",
   "execution_count": null,
   "id": "04cd4002",
   "metadata": {
    "id": "04cd4002",
    "outputId": "7f18bb65-aede-47ad-bd33-8d1dbc8cb111"
   },
   "outputs": [
    {
     "name": "stdout",
     "output_type": "stream",
     "text": [
      "62.363417489451514\n"
     ]
    }
   ],
   "source": [
    "#Model with optimal parameters\n",
    "model = BaggingRegressor(base_estimator=DecisionTreeRegressor(), n_estimators = 400, random_state=1,\n",
    "                        oob_score=True,n_jobs=-1,bootstrap_features=True,bootstrap=True,\n",
    "                        max_features=1.0,max_samples=1.0).fit(X, y)\n",
    "\n",
    "#RMSE on test data\n",
    "RMSE = np.sqrt(mean_squared_error(y_test, model.predict(X_test)))\n",
    "print(RMSE)"
   ]
  },
  {
   "cell_type": "code",
   "execution_count": null,
   "id": "aab1ca71",
   "metadata": {
    "id": "aab1ca71",
    "outputId": "7453ea76-91ed-4f0d-b2a2-002f0dfea681"
   },
   "outputs": [
    {
     "name": "stdout",
     "output_type": "stream",
     "text": [
      "Fitting 5 folds for each of 16 candidates, totalling 80 fits\n",
      "Best Parameters :  {'base_estimator': DecisionTreeRegressor(random_state=1), 'bootstrap': True, 'bootstrap_features': False, 'max_features': 0.5, 'max_samples': 1.0, 'n_estimators': 400}\n"
     ]
    }
   ],
   "source": [
    "# Finer Grid Search 3\n",
    "\n",
    "# create finer grid 3 \n",
    "params = {'base_estimator': [DecisionTreeRegressor(random_state = 1),LinearRegression()],#Comparing bagging with a linear regression model as well\n",
    "          'n_estimators': [250, 400],\n",
    "          'max_samples': [1.0],\n",
    "          'max_features': [0.5,1.0],\n",
    "          'bootstrap': [True],\n",
    "          'bootstrap_features': [True, False]}\n",
    "# create K-fold \n",
    "cv = KFold(n_splits=5,shuffle=True,random_state=1)\n",
    "\n",
    "# bag trees using Gr\n",
    "bagging_regressor_grid = GridSearchCV(BaggingRegressor(random_state=1, n_jobs=-1), \n",
    "                                      param_grid =params, cv=cv, n_jobs=-1, verbose=1)\n",
    "bagging_regressor_grid.fit(X, y)\n",
    "print('Best Parameters : ',bagging_regressor_grid.best_params_)"
   ]
  },
  {
   "cell_type": "code",
   "execution_count": null,
   "id": "948262ed",
   "metadata": {
    "id": "948262ed",
    "outputId": "dc6eb7fc-5aea-4c3b-c982-512649cc0c82"
   },
   "outputs": [
    {
     "name": "stdout",
     "output_type": "stream",
     "text": [
      "62.41480502468655\n"
     ]
    }
   ],
   "source": [
    "#Model with optimal parameters\n",
    "model = BaggingRegressor(base_estimator=DecisionTreeRegressor(), n_estimators = 400, random_state=1,\n",
    "                        oob_score=True,n_jobs=-1,bootstrap_features=False,bootstrap=True,\n",
    "                        max_features=0.5 ,max_samples=1.0).fit(X, y)\n",
    "\n",
    "#RMSE on test data\n",
    "RMSE = np.sqrt(mean_squared_error(y_test, model.predict(X_test)))\n",
    "print(RMSE)"
   ]
  },
  {
   "cell_type": "markdown",
   "id": "017ca069",
   "metadata": {
    "id": "017ca069"
   },
   "source": [
    "### Random Forest"
   ]
  },
  {
   "cell_type": "code",
   "execution_count": null,
   "id": "0a20539d",
   "metadata": {
    "id": "0a20539d",
    "outputId": "ad89b067-d45d-419f-a11a-f3858a9eda7f"
   },
   "outputs": [
    {
     "data": {
      "text/plain": [
       "<matplotlib.legend.Legend at 0x7fc578c30700>"
      ]
     },
     "execution_count": 3,
     "metadata": {},
     "output_type": "execute_result"
    },
    {
     "data": {
      "image/png": "[encoded data removed]",
      "text/plain": [
       "<Figure size 640x480 with 1 Axes>"
      ]
     },
     "metadata": {},
     "output_type": "display_data"
    }
   ],
   "source": [
    "# Visualize number of trees against RMSE to find optimal number of trees\n",
    "\n",
    "rmse = {}\n",
    "\n",
    "for i in np.linspace(10, 500, 40,dtype=int):\n",
    "    model = RandomForestRegressor(n_estimators=i, random_state=1,\n",
    "                        n_jobs=-1, oob_score=True).fit(X, y)\n",
    "    pred = model.predict(X_test)\n",
    "    rmse[i] = np.sqrt(mean_squared_error(y_test, pred))\n",
    "    \n",
    "plt.rcParams.update({'font.size': 15})\n",
    "plt.figure(figsize=(8, 6), dpi=80)\n",
    "plt.plot(rmse.keys(),rmse.values(),label = 'RMSE')\n",
    "plt.plot(rmse.keys(),rmse.values(),'o', color = 'blue')\n",
    "plt.xlabel('Number of trees')\n",
    "plt.ylabel('RMSE')\n",
    "plt.legend()"
   ]
  },
  {
   "cell_type": "code",
   "execution_count": null,
   "id": "a41f1940",
   "metadata": {
    "id": "a41f1940",
    "outputId": "f20e3d47-298d-4a1f-bc0e-7e4d0d45cb5d"
   },
   "outputs": [
    {
     "name": "stdout",
     "output_type": "stream",
     "text": [
      "Best params =  (18, 1100, 3)\n",
      "Best score (R-squared) =  0.2879685982364629\n"
     ]
    }
   ],
   "source": [
    "# Course Grid 1\n",
    "\n",
    "n_samples = train_final.shape[0]\n",
    "n_features = train_final.shape[1]\n",
    "\n",
    "params = {'max_depth': [12,15,18],\n",
    "          'max_leaf_nodes':[1100,1200,1300],\n",
    "          'max_features': list(range(1,20))}\n",
    "\n",
    "param_list=list(it.product(*(params[Name] for Name in params)))\n",
    "\n",
    "oob_score = [0]*len(param_list)\n",
    "\n",
    "i=0\n",
    "for pr in param_list:\n",
    "    model = RandomForestRegressor(random_state = 1, oob_score = True,\n",
    "                                  verbose = False, n_estimators = 450,\n",
    "                                  max_depth = pr[0],\n",
    "                                  max_leaf_nodes = pr[1], \n",
    "                                  max_features = pr[2],\n",
    "                                  n_jobs = -1).fit(X, y)\n",
    "    oob_score[i] = model.oob_score_\n",
    "    i=i+1\n",
    "    \n",
    "\n",
    "print(\"Best params = \", param_list[np.argmax(oob_score)])\n",
    "print(\"Best score (R-squared) = \", np.max(oob_score))"
   ]
  },
  {
   "cell_type": "code",
   "execution_count": null,
   "id": "0727e19d",
   "metadata": {
    "id": "0727e19d",
    "outputId": "4307c1ef-04ca-4637-ee6b-6a3c54eda7db"
   },
   "outputs": [
    {
     "name": "stdout",
     "output_type": "stream",
     "text": [
      "The RMSE on test data is 61.29105544217997\n"
     ]
    }
   ],
   "source": [
    "# Course Grid Model with optimal parameters\n",
    "\n",
    "model_rf = RandomForestRegressor(random_state = 1,\n",
    "                                n_estimators = 450,\n",
    "                                max_depth = 18,\n",
    "                                max_leaf_nodes = 1100,\n",
    "                                max_features = 3,\n",
    "                                n_jobs = -1)\n",
    "\n",
    "model_rf.fit(X, y)\n",
    "\n",
    "pred_rf = model_rf.predict(X_test)\n",
    "\n",
    "print(\"The RMSE on test data is\", np.sqrt(mean_squared_error(y_test, pred_rf)))"
   ]
  },
  {
   "cell_type": "markdown",
   "id": "f854533c",
   "metadata": {
    "id": "f854533c"
   },
   "source": [
    "I noticed that the optimal max_depth and max_leaf_nodes the model returned were at the top of their range. For the first finer grid I increased the range for both. Max_features returned a low number, so I honed in at the range for the first finer grid."
   ]
  },
  {
   "cell_type": "code",
   "execution_count": null,
   "id": "7dc4a505",
   "metadata": {
    "id": "7dc4a505",
    "outputId": "ad1f7439-0797-41cf-c7d0-5bbacf486bc7"
   },
   "outputs": [
    {
     "name": "stdout",
     "output_type": "stream",
     "text": [
      "Best params =  (21, 1300, 3)\n",
      "Best score (R-squared) =  0.291402899914584\n"
     ]
    }
   ],
   "source": [
    "# Finer Grid 1\n",
    "n_samples = train_final.shape[0]\n",
    "n_features = train_final.shape[1]\n",
    "\n",
    "params = {'max_depth': range(15, 25, 3),\n",
    "          'max_leaf_nodes':range(1300, 1600, 100),\n",
    "          'max_features': list(range(1,5))}\n",
    "\n",
    "param_list=list(it.product(*(params[Name] for Name in params)))\n",
    "\n",
    "oob_score = [0]*len(param_list)\n",
    "\n",
    "i=0\n",
    "for pr in param_list:\n",
    "    model = RandomForestRegressor(random_state = 1, oob_score = True,\n",
    "                                  verbose = False, n_estimators = 450,\n",
    "                                  max_depth = pr[0],\n",
    "                                  max_leaf_nodes = pr[1], \n",
    "                                  max_features = pr[2],\n",
    "                                  n_jobs = -1).fit(X, y)\n",
    "    oob_score[i] = model.oob_score_\n",
    "    i=i+1\n",
    "    \n",
    "\n",
    "print(\"Best params = \", param_list[np.argmax(oob_score)])\n",
    "print(\"Best score (R-squared) = \", np.max(oob_score))"
   ]
  },
  {
   "cell_type": "code",
   "execution_count": null,
   "id": "b7f7d064",
   "metadata": {
    "id": "b7f7d064",
    "outputId": "4d2c604b-9da2-43e1-fc26-2bffc0800a9d"
   },
   "outputs": [
    {
     "name": "stdout",
     "output_type": "stream",
     "text": [
      "The RMSE on test data is 61.41167036786883\n"
     ]
    }
   ],
   "source": [
    "# Finer Grid 1 Model with Optimal Parameters \n",
    "model_rf2 = RandomForestRegressor(random_state = 1,\n",
    "                                n_estimators = 450,\n",
    "                                max_depth = 21,\n",
    "                                max_leaf_nodes = 1300,\n",
    "                                max_features = 3,\n",
    "                                n_jobs = -1)\n",
    "\n",
    "model_rf2.fit(X, y)\n",
    "\n",
    "pred_rf2 = model_rf2.predict(X_test)\n",
    "\n",
    "print(\"The RMSE on test data is\", np.sqrt(mean_squared_error(y_test, pred_rf2)))"
   ]
  },
  {
   "cell_type": "code",
   "execution_count": null,
   "id": "1513bd42",
   "metadata": {
    "id": "1513bd42",
    "outputId": "481af7e8-624a-4a95-8c9f-7637ee5fdf55"
   },
   "outputs": [
    {
     "name": "stdout",
     "output_type": "stream",
     "text": [
      "Fitting 5 folds for each of 96 candidates, totalling 480 fits\n",
      "-46.294780357669325 {'bootstrap': False, 'max_depth': 24, 'max_features': 2, 'max_leaf_nodes': 1300}\n"
     ]
    }
   ],
   "source": [
    "# Finer Grid 2\n",
    "\n",
    "params = {'max_depth': range(15, 25, 3),\n",
    "          'max_leaf_nodes':range(1300, 1600, 100),\n",
    "          'max_features': list(range(1,5)),\n",
    "          'bootstrap': [True, False]}\n",
    "\n",
    "cv = KFold(n_splits=5,shuffle=True,random_state=1)\n",
    "\n",
    "\n",
    "rf = RandomForestRegressor(n_estimators = 450, random_state = 1)\n",
    "\n",
    "\n",
    "grid_search = GridSearchCV(rf, \n",
    "                           params, \n",
    "                           cv = cv, \n",
    "                           n_jobs = -1, \n",
    "                           verbose = 1,\n",
    "                           scoring='neg_mean_absolute_error')\n",
    "\n",
    "\n",
    "grid_search.fit(X_train, y_train)\n",
    "\n",
    "\n",
    "\n",
    "print (grid_search.best_score_, grid_search.best_params_) "
   ]
  },
  {
   "cell_type": "code",
   "execution_count": null,
   "id": "a0133405",
   "metadata": {
    "id": "a0133405",
    "outputId": "92f63d08-2a21-4828-fb9e-df63d77f6571"
   },
   "outputs": [
    {
     "name": "stdout",
     "output_type": "stream",
     "text": [
      "The RMSE on test data is 61.19110288204707\n"
     ]
    }
   ],
   "source": [
    "# Finer Grid 2 with Optimal Parameters\n",
    "\n",
    "model_rf_final = RandomForestRegressor(random_state = 1,\n",
    "                                n_estimators = 450,\n",
    "                                max_depth = 24,\n",
    "                                max_leaf_nodes = 1300,\n",
    "                                max_features = 2,\n",
    "                                bootstrap = False,\n",
    "                                n_jobs = -1)\n",
    "\n",
    "model_rf_final.fit(X, y)\n",
    "\n",
    "pred_rf_final = model_rf_final.predict(X_test)\n",
    "\n",
    "print(\"The RMSE on test data is\", np.sqrt(mean_squared_error(y_test, pred_rf_final)))"
   ]
  },
  {
   "cell_type": "markdown",
   "id": "8182968b",
   "metadata": {
    "id": "8182968b"
   },
   "source": [
    "### XGBoost"
   ]
  },
  {
   "cell_type": "code",
   "execution_count": null,
   "id": "3fc6a618",
   "metadata": {
    "colab": {
     "base_uri": "https://localhost:8080/"
    },
    "id": "3fc6a618",
    "outputId": "f17f6db0-40e0-4f9a-8075-b255c0e46319"
   },
   "outputs": [
    {
     "name": "stdout",
     "output_type": "stream",
     "text": [
      "Fitting 2 folds for each of 200 candidates, totalling 400 fits\n",
      "Optimal parameter values = {'subsample': 0.75, 'reg_lambda': 0, 'n_estimators': 1000, 'max_depth': 7, 'learning_rate': 0.01, 'gamma': 100, 'colsample_bytree': 0.2}\n",
      "Optimal cross validation R-squared =  0.2720142336298434\n",
      "Time taken =  37  minutes\n"
     ]
    }
   ],
   "source": [
    "# Course Grid\n",
    "start_time = time.time()\n",
    "param_grid = {'max_depth': [5,6,7],\n",
    "              'learning_rate': [0.01,0.1],\n",
    "               'reg_lambda':[0,1,10],\n",
    "                'n_estimators':[1000, 2000, 3000],\n",
    "                'gamma': [50,100],\n",
    "                'subsample': [0.5,0.75,1.0],\n",
    "                'colsample_bytree': [0.2,0.4]}\n",
    "\n",
    "cv = KFold(n_splits=2,shuffle=True,random_state=1)\n",
    "optimal_params = RandomizedSearchCV(estimator=xgb.XGBRegressor(random_state=1),                                                       \n",
    "                             param_distributions = param_grid, n_iter = 200,\n",
    "                             verbose = 1,n_jobs=-1,cv=cv)\n",
    "optimal_params.fit(X,y)\n",
    "print(\"Optimal parameter values =\", optimal_params.best_params_)\n",
    "print(\"Optimal cross validation R-squared = \",optimal_params.best_score_)\n",
    "print(\"Time taken = \", round((time.time()-start_time)/60), \" minutes\")"
   ]
  },
  {
   "cell_type": "code",
   "execution_count": null,
   "id": "P58a8whtIwgA",
   "metadata": {
    "colab": {
     "base_uri": "https://localhost:8080/"
    },
    "id": "P58a8whtIwgA",
    "outputId": "716a0e29-b070-447e-c5c7-17933dafdbd0"
   },
   "outputs": [
    {
     "name": "stdout",
     "output_type": "stream",
     "text": [
      "Test RMSE: 62.478267689982445\n"
     ]
    }
   ],
   "source": [
    "print(\"Test RMSE:\",np.sqrt(mean_squared_error(optimal_params.best_estimator_.predict(X_test),y_test)))"
   ]
  },
  {
   "cell_type": "code",
   "execution_count": null,
   "id": "a5YUht33IZHq",
   "metadata": {
    "id": "a5YUht33IZHq"
   },
   "outputs": [],
   "source": [
    "means = optimal_params.cv_results_['mean_test_score']\n",
    "stds = optimal_params.cv_results_['std_test_score']\n",
    "params = optimal_params.cv_results_['params']"
   ]
  },
  {
   "cell_type": "code",
   "execution_count": null,
   "id": "bbOeZC7JIpu2",
   "metadata": {
    "colab": {
     "base_uri": "https://localhost:8080/",
     "height": 1000
    },
    "id": "bbOeZC7JIpu2",
    "outputId": "8464bec0-19c7-42c4-8866-d94067bc43a4"
   },
   "outputs": [
    {
     "data": {
      "image/png": "[encoded data removed]",
      "text/plain": [
       "<Figure size 640x480 with 1 Axes>"
      ]
     },
     "metadata": {},
     "output_type": "display_data"
    },
    {
     "data": {
      "image/png": "[encoded data removed]",
      "text/plain": [
       "<Figure size 640x480 with 1 Axes>"
      ]
     },
     "metadata": {},
     "output_type": "display_data"
    },
    {
     "data": {
      "image/png": "[encoded data removed]",
      "text/plain": [
       "<Figure size 640x480 with 1 Axes>"
      ]
     },
     "metadata": {},
     "output_type": "display_data"
    },
    {
     "data": {
      "image/png": "[encoded data removed]",
      "text/plain": [
       "<Figure size 640x480 with 1 Axes>"
      ]
     },
     "metadata": {},
     "output_type": "display_data"
    },
    {
     "data": {
      "image/png": "[encoded data removed]",
      "text/plain": [
       "<Figure size 640x480 with 1 Axes>"
      ]
     },
     "metadata": {},
     "output_type": "display_data"
    },
    {
     "data": {
      "image/png": "[encoded data removed]",
      "text/plain": [
       "<Figure size 640x480 with 1 Axes>"
      ]
     },
     "metadata": {},
     "output_type": "display_data"
    },
    {
     "data": {
      "image/png": "[encoded data removed]",
      "text/plain": [
       "<Figure size 640x480 with 1 Axes>"
      ]
     },
     "metadata": {},
     "output_type": "display_data"
    }
   ],
   "source": [
    "param_names = ['subsample', 'reg_lambda', 'n_estimators', 'max_depth', 'learning_rate', 'gamma', 'colsample_bytree']\n",
    "\n",
    "for i in range(len(param_names)):\n",
    "    values = []\n",
    "    for j in range(len(params)):\n",
    "        values.append(params[j][param_names[i]])    \n",
    "    fig, ax = plt.subplots()\n",
    "    ax.scatter(values, -means)\n",
    "    ax.set_xlabel(param_names[i])\n",
    "    ax.set_ylabel('Score')  \n",
    "    plt.show()"
   ]
  },
  {
   "cell_type": "code",
   "execution_count": null,
   "id": "1a5d21f2",
   "metadata": {
    "colab": {
     "background_save": true,
     "base_uri": "https://localhost:8080/"
    },
    "id": "1a5d21f2",
    "outputId": "6f939516-13b0-4d11-e5af-53548bbf473f"
   },
   "outputs": [
    {
     "name": "stdout",
     "output_type": "stream",
     "text": [
      "Fitting 5 folds for each of 200 candidates, totalling 1000 fits\n",
      "Optimal parameter values = {'subsample': 1.0, 'reg_lambda': 1, 'n_estimators': 1000, 'max_depth': 8, 'learning_rate': 0.01, 'gamma': 10, 'colsample_bytree': 0.4}\n",
      "Optimal cross validation R-squared =  0.2918522882477628\n",
      "Time taken =  58  minutes\n"
     ]
    }
   ],
   "source": [
    "# Finer Grid 1\n",
    "start_time = time.time()\n",
    "param_grid = {'max_depth': [6,7,8],\n",
    "              'learning_rate': [0.01, 0.05, 0.1],\n",
    "              'reg_lambda':[0, 1, 10],\n",
    "              'n_estimators':[100, 500, 1000],\n",
    "              'gamma': [0, 10, 50],\n",
    "              'subsample': [0.5, 0.75, 1.0],\n",
    "              'colsample_bytree': [0.2, 0.4, 0.75]}\n",
    "\n",
    "cv = KFold(n_splits=5,shuffle=True,random_state=1)\n",
    "optimal_params = RandomizedSearchCV(estimator=xgb.XGBRegressor(random_state=1),                                                       \n",
    "                             param_distributions = param_grid, n_iter = 200,\n",
    "                             verbose = 1,\n",
    "                             n_jobs=-1,\n",
    "                             cv = cv)\n",
    "optimal_params.fit(X_train,y_train)\n",
    "print(\"Optimal parameter values =\", optimal_params.best_params_)\n",
    "print(\"Optimal cross validation R-squared = \",optimal_params.best_score_)\n",
    "print(\"Time taken = \", round((time.time()-start_time)/60), \" minutes\")"
   ]
  },
  {
   "cell_type": "code",
   "execution_count": 22,
   "id": "BqLRcC4cc5-h",
   "metadata": {
    "colab": {
     "base_uri": "https://localhost:8080/"
    },
    "id": "BqLRcC4cc5-h",
    "outputId": "126459d0-cc8c-41eb-cf7c-f3ea4d6dab28"
   },
   "outputs": [
    {
     "name": "stdout",
     "output_type": "stream",
     "text": [
      "Test RMSE: 62.36942585234199\n"
     ]
    }
   ],
   "source": [
    "print(\"Test RMSE:\",np.sqrt(mean_squared_error(optimal_params.best_estimator_.predict(X_test),y_test)))"
   ]
  },
  {
   "cell_type": "code",
   "execution_count": 5,
   "id": "0d48cc15",
   "metadata": {
    "colab": {
     "base_uri": "https://localhost:8080/"
    },
    "id": "0d48cc15",
    "outputId": "bc51e27d-09c0-430a-aef5-3f35148b2641"
   },
   "outputs": [
    {
     "name": "stdout",
     "output_type": "stream",
     "text": [
      "Fitting 5 folds for each of 32 candidates, totalling 160 fits\n",
      "Optimal parameter values = {'subsample': 0.75, 'reg_lambda': 0.4, 'n_estimators': 1000, 'max_depth': 8, 'learning_rate': 0.0088, 'gamma': 15, 'colsample_bytree': 0.4}\n",
      "Optimal cross validation R-squared =  0.2739359771055924\n",
      "Time taken =  1  minutes\n"
     ]
    }
   ],
   "source": [
    "# Finer Grid 2\n",
    "start_time = time.time()\n",
    "param_grid = {'max_depth': [7,8],\n",
    "              'learning_rate': [0.01,0.0088],\n",
    "              'reg_lambda':[0.4],\n",
    "              'n_estimators':[1000,1650],\n",
    "              'gamma': [10,15],\n",
    "              'subsample': [0.5,0.75],\n",
    "              'colsample_bytree': [0.4]}\n",
    "\n",
    "cv = KFold(n_splits=5,shuffle=True,random_state=1)\n",
    "optimal_params = RandomizedSearchCV(estimator=xgb.XGBRegressor(random_state=1),                                                       \n",
    "                             param_distributions = param_grid, n_iter = 200,\n",
    "                             verbose = 1,n_jobs=-1,cv=cv)\n",
    "optimal_params.fit(X,y)\n",
    "print(\"Optimal parameter values =\", optimal_params.best_params_)\n",
    "print(\"Optimal cross validation R-squared = \",optimal_params.best_score_)\n",
    "print(\"Time taken = \", round((time.time()-start_time)/60), \" minutes\")"
   ]
  },
  {
   "cell_type": "code",
   "execution_count": 6,
   "id": "ucewVtpMv7MX",
   "metadata": {
    "colab": {
     "base_uri": "https://localhost:8080/"
    },
    "id": "ucewVtpMv7MX",
    "outputId": "5161d711-3877-40ee-d5d1-cf26b193d919"
   },
   "outputs": [
    {
     "name": "stdout",
     "output_type": "stream",
     "text": [
      "Test RMSE: 62.148381497806774\n"
     ]
    }
   ],
   "source": [
    "print(\"Test RMSE:\",np.sqrt(mean_squared_error(optimal_params.best_estimator_.predict(X_test),y_test)))"
   ]
  },
  {
   "cell_type": "markdown",
   "id": "a221dcc6",
   "metadata": {
    "id": "a221dcc6"
   },
   "source": [
    "# Model Ensemble "
   ]
  },
  {
   "cell_type": "code",
   "execution_count": 8,
   "id": "bfe33b01",
   "metadata": {
    "id": "bfe33b01"
   },
   "outputs": [],
   "source": [
    "# MARS MODEL\n",
    "import warnings\n",
    "warnings.filterwarnings(\"ignore\")\n",
    "\n",
    "model = Earth(max_terms=1000, max_degree=2, feature_importance_type= 'rss') \n",
    "MARS_model = BaggingRegressor(base_estimator=model, n_estimators=200, random_state=1,\n",
    "                        oob_score=True,n_jobs=-1,bootstrap_features=True,bootstrap=True,\n",
    "                        max_features=0.5,max_samples=1.0).fit(X, y)"
   ]
  },
  {
   "cell_type": "code",
   "execution_count": 15,
   "id": "fuaV0YZ84Z0H",
   "metadata": {
    "colab": {
     "base_uri": "https://localhost:8080/",
     "height": 645
    },
    "id": "fuaV0YZ84Z0H",
    "outputId": "475680e5-2764-4523-e4e8-7eeca95d8a17"
   },
   "outputs": [
    {
     "data": {
      "text/html": [
       "\n",
       "  <div id=\"df-db238921-71ea-4f32-aef2-29d845e7e2c1\">\n",
       "    <div class=\"colab-df-container\">\n",
       "      <div>\n",
       "<style scoped>\n",
       "    .dataframe tbody tr th:only-of-type {\n",
       "        vertical-align: middle;\n",
       "    }\n",
       "\n",
       "    .dataframe tbody tr th {\n",
       "        vertical-align: top;\n",
       "    }\n",
       "\n",
       "    .dataframe thead th {\n",
       "        text-align: right;\n",
       "    }\n",
       "</style>\n",
       "<table border=\"1\" class=\"dataframe\">\n",
       "  <thead>\n",
       "    <tr style=\"text-align: right;\">\n",
       "      <th></th>\n",
       "      <th>predictors</th>\n",
       "      <th>importance</th>\n",
       "    </tr>\n",
       "  </thead>\n",
       "  <tbody>\n",
       "    <tr>\n",
       "      <th>1</th>\n",
       "      <td>Annual_Income</td>\n",
       "      <td>0.153372</td>\n",
       "    </tr>\n",
       "    <tr>\n",
       "      <th>2</th>\n",
       "      <td>Monthly_Inhand_Salary</td>\n",
       "      <td>0.142645</td>\n",
       "    </tr>\n",
       "    <tr>\n",
       "      <th>0</th>\n",
       "      <td>Age</td>\n",
       "      <td>0.137838</td>\n",
       "    </tr>\n",
       "    <tr>\n",
       "      <th>4</th>\n",
       "      <td>Num_Credit_Card</td>\n",
       "      <td>0.122989</td>\n",
       "    </tr>\n",
       "    <tr>\n",
       "      <th>3</th>\n",
       "      <td>Num_Bank_Accounts</td>\n",
       "      <td>0.109604</td>\n",
       "    </tr>\n",
       "    <tr>\n",
       "      <th>5</th>\n",
       "      <td>Num_of_Loan</td>\n",
       "      <td>0.101489</td>\n",
       "    </tr>\n",
       "    <tr>\n",
       "      <th>6</th>\n",
       "      <td>Num_of_Delayed_Payment</td>\n",
       "      <td>0.100529</td>\n",
       "    </tr>\n",
       "    <tr>\n",
       "      <th>7</th>\n",
       "      <td>Changed_Credit_Limit</td>\n",
       "      <td>0.077911</td>\n",
       "    </tr>\n",
       "    <tr>\n",
       "      <th>8</th>\n",
       "      <td>Num_Credit_Inquiries</td>\n",
       "      <td>0.053623</td>\n",
       "    </tr>\n",
       "    <tr>\n",
       "      <th>9</th>\n",
       "      <td>Outstanding_Debt</td>\n",
       "      <td>NaN</td>\n",
       "    </tr>\n",
       "    <tr>\n",
       "      <th>10</th>\n",
       "      <td>Credit_Utilization_Ratio</td>\n",
       "      <td>NaN</td>\n",
       "    </tr>\n",
       "    <tr>\n",
       "      <th>11</th>\n",
       "      <td>Total_EMI_per_month</td>\n",
       "      <td>NaN</td>\n",
       "    </tr>\n",
       "    <tr>\n",
       "      <th>12</th>\n",
       "      <td>Amount_invested_monthly</td>\n",
       "      <td>NaN</td>\n",
       "    </tr>\n",
       "    <tr>\n",
       "      <th>13</th>\n",
       "      <td>Monthly_Balance</td>\n",
       "      <td>NaN</td>\n",
       "    </tr>\n",
       "    <tr>\n",
       "      <th>14</th>\n",
       "      <td>Credit_Mix_Bad</td>\n",
       "      <td>NaN</td>\n",
       "    </tr>\n",
       "    <tr>\n",
       "      <th>15</th>\n",
       "      <td>Credit_Mix_Good</td>\n",
       "      <td>NaN</td>\n",
       "    </tr>\n",
       "    <tr>\n",
       "      <th>16</th>\n",
       "      <td>Credit_Mix_Standard</td>\n",
       "      <td>NaN</td>\n",
       "    </tr>\n",
       "    <tr>\n",
       "      <th>17</th>\n",
       "      <td>Payment_of_Min_Amount_No</td>\n",
       "      <td>NaN</td>\n",
       "    </tr>\n",
       "    <tr>\n",
       "      <th>18</th>\n",
       "      <td>Payment_of_Min_Amount_Yes</td>\n",
       "      <td>NaN</td>\n",
       "    </tr>\n",
       "  </tbody>\n",
       "</table>\n",
       "</div>\n",
       "      <button class=\"colab-df-convert\" onclick=\"convertToInteractive('df-db238921-71ea-4f32-aef2-29d845e7e2c1')\"\n",
       "              title=\"Convert this dataframe to an interactive table.\"\n",
       "              style=\"display:none;\">\n",
       "        \n",
       "  <svg xmlns=\"http://www.w3.org/2000/svg\" height=\"24px\"viewBox=\"0 0 24 24\"\n",
       "       width=\"24px\">\n",
       "    <path d=\"M0 0h24v24H0V0z\" fill=\"none\"/>\n",
       "    <path d=\"M18.56 5.44l.94 2.06.94-2.06 2.06-.94-2.06-.94-.94-2.06-.94 2.06-2.06.94zm-11 1L8.5 8.5l.94-2.06 2.06-.94-2.06-.94L8.5 2.5l-.94 2.06-2.06.94zm10 10l.94 2.06.94-2.06 2.06-.94-2.06-.94-.94-2.06-.94 2.06-2.06.94z\"/><path d=\"M17.41 7.96l-1.37-1.37c-.4-.4-.92-.59-1.43-.59-.52 0-1.04.2-1.43.59L10.3 9.45l-7.72 7.72c-.78.78-.78 2.05 0 2.83L4 21.41c.39.39.9.59 1.41.59.51 0 1.02-.2 1.41-.59l7.78-7.78 2.81-2.81c.8-.78.8-2.07 0-2.86zM5.41 20L4 18.59l7.72-7.72 1.47 1.35L5.41 20z\"/>\n",
       "  </svg>\n",
       "      </button>\n",
       "      \n",
       "  <style>\n",
       "    .colab-df-container {\n",
       "      display:flex;\n",
       "      flex-wrap:wrap;\n",
       "      gap: 12px;\n",
       "    }\n",
       "\n",
       "    .colab-df-convert {\n",
       "      background-color: #E8F0FE;\n",
       "      border: none;\n",
       "      border-radius: 50%;\n",
       "      cursor: pointer;\n",
       "      display: none;\n",
       "      fill: #1967D2;\n",
       "      height: 32px;\n",
       "      padding: 0 0 0 0;\n",
       "      width: 32px;\n",
       "    }\n",
       "\n",
       "    .colab-df-convert:hover {\n",
       "      background-color: #E2EBFA;\n",
       "      box-shadow: 0px 1px 2px rgba(60, 64, 67, 0.3), 0px 1px 3px 1px rgba(60, 64, 67, 0.15);\n",
       "      fill: #174EA6;\n",
       "    }\n",
       "\n",
       "    [theme=dark] .colab-df-convert {\n",
       "      background-color: #3B4455;\n",
       "      fill: #D2E3FC;\n",
       "    }\n",
       "\n",
       "    [theme=dark] .colab-df-convert:hover {\n",
       "      background-color: #434B5C;\n",
       "      box-shadow: 0px 1px 3px 1px rgba(0, 0, 0, 0.15);\n",
       "      filter: drop-shadow(0px 1px 2px rgba(0, 0, 0, 0.3));\n",
       "      fill: #FFFFFF;\n",
       "    }\n",
       "  </style>\n",
       "\n",
       "      <script>\n",
       "        const buttonEl =\n",
       "          document.querySelector('#df-db238921-71ea-4f32-aef2-29d845e7e2c1 button.colab-df-convert');\n",
       "        buttonEl.style.display =\n",
       "          google.colab.kernel.accessAllowed ? 'block' : 'none';\n",
       "\n",
       "        async function convertToInteractive(key) {\n",
       "          const element = document.querySelector('#df-db238921-71ea-4f32-aef2-29d845e7e2c1');\n",
       "          const dataTable =\n",
       "            await google.colab.kernel.invokeFunction('convertToInteractive',\n",
       "                                                     [key], {});\n",
       "          if (!dataTable) return;\n",
       "\n",
       "          const docLinkHtml = 'Like what you see? Visit the ' +\n",
       "            '<a target=\"_blank\" href=https://colab.research.google.com/notebooks/data_table.ipynb>data table notebook</a>'\n",
       "            + ' to learn more about interactive tables.';\n",
       "          element.innerHTML = '';\n",
       "          dataTable['output_type'] = 'display_data';\n",
       "          await google.colab.output.renderOutput(dataTable, element);\n",
       "          const docLink = document.createElement('div');\n",
       "          docLink.innerHTML = docLinkHtml;\n",
       "          element.appendChild(docLink);\n",
       "        }\n",
       "      </script>\n",
       "    </div>\n",
       "  </div>\n",
       "  "
      ],
      "text/plain": [
       "                   predictors  importance\n",
       "1               Annual_Income    0.153372\n",
       "2       Monthly_Inhand_Salary    0.142645\n",
       "0                         Age    0.137838\n",
       "4             Num_Credit_Card    0.122989\n",
       "3           Num_Bank_Accounts    0.109604\n",
       "5                 Num_of_Loan    0.101489\n",
       "6      Num_of_Delayed_Payment    0.100529\n",
       "7        Changed_Credit_Limit    0.077911\n",
       "8        Num_Credit_Inquiries    0.053623\n",
       "9            Outstanding_Debt         NaN\n",
       "10   Credit_Utilization_Ratio         NaN\n",
       "11        Total_EMI_per_month         NaN\n",
       "12    Amount_invested_monthly         NaN\n",
       "13            Monthly_Balance         NaN\n",
       "14             Credit_Mix_Bad         NaN\n",
       "15            Credit_Mix_Good         NaN\n",
       "16        Credit_Mix_Standard         NaN\n",
       "17   Payment_of_Min_Amount_No         NaN\n",
       "18  Payment_of_Min_Amount_Yes         NaN"
      ]
     },
     "execution_count": 15,
     "metadata": {},
     "output_type": "execute_result"
    }
   ],
   "source": [
    "# MARS MODEL Feature Importances\n",
    "predictors = np.array(X.columns)\n",
    "\n",
    "feature_importances = np.mean([\n",
    "    tree.feature_importances_ for tree in MARS_model.estimators_], axis=0)\n",
    "\n",
    "importances = pd.DataFrame(columns = ['predictors', 'importance'])\n",
    "\n",
    "importances['predictors'] = pd.Series(predictors)\n",
    "importances['importance'] = pd.Series(feature_importances)\n",
    "\n",
    "importances.sort_values(by = \"importance\", ascending = False)"
   ]
  },
  {
   "cell_type": "code",
   "execution_count": 10,
   "id": "6269a7a7",
   "metadata": {
    "id": "6269a7a7"
   },
   "outputs": [],
   "source": [
    "# BAGGING MODEL\n",
    "\n",
    "bagging_model = BaggingRegressor(base_estimator=DecisionTreeRegressor(), n_estimators = 400, random_state=1,\n",
    "                        oob_score=True,n_jobs=-1,bootstrap_features=False,bootstrap=True,\n",
    "                        max_features=0.5 ,max_samples=1.0).fit(X, y)\n"
   ]
  },
  {
   "cell_type": "code",
   "execution_count": 12,
   "id": "e60b5e4c",
   "metadata": {
    "colab": {
     "base_uri": "https://localhost:8080/",
     "height": 645
    },
    "id": "e60b5e4c",
    "outputId": "4665eb35-6021-4323-db47-e395b7bf1039"
   },
   "outputs": [
    {
     "data": {
      "text/html": [
       "\n",
       "  <div id=\"df-6c239853-0001-40f4-b498-bd49b7d10f69\">\n",
       "    <div class=\"colab-df-container\">\n",
       "      <div>\n",
       "<style scoped>\n",
       "    .dataframe tbody tr th:only-of-type {\n",
       "        vertical-align: middle;\n",
       "    }\n",
       "\n",
       "    .dataframe tbody tr th {\n",
       "        vertical-align: top;\n",
       "    }\n",
       "\n",
       "    .dataframe thead th {\n",
       "        text-align: right;\n",
       "    }\n",
       "</style>\n",
       "<table border=\"1\" class=\"dataframe\">\n",
       "  <thead>\n",
       "    <tr style=\"text-align: right;\">\n",
       "      <th></th>\n",
       "      <th>predictors</th>\n",
       "      <th>importance</th>\n",
       "    </tr>\n",
       "  </thead>\n",
       "  <tbody>\n",
       "    <tr>\n",
       "      <th>8</th>\n",
       "      <td>Num_Credit_Inquiries</td>\n",
       "      <td>0.115781</td>\n",
       "    </tr>\n",
       "    <tr>\n",
       "      <th>4</th>\n",
       "      <td>Num_Credit_Card</td>\n",
       "      <td>0.113686</td>\n",
       "    </tr>\n",
       "    <tr>\n",
       "      <th>5</th>\n",
       "      <td>Num_of_Loan</td>\n",
       "      <td>0.113441</td>\n",
       "    </tr>\n",
       "    <tr>\n",
       "      <th>2</th>\n",
       "      <td>Monthly_Inhand_Salary</td>\n",
       "      <td>0.113265</td>\n",
       "    </tr>\n",
       "    <tr>\n",
       "      <th>0</th>\n",
       "      <td>Age</td>\n",
       "      <td>0.111785</td>\n",
       "    </tr>\n",
       "    <tr>\n",
       "      <th>7</th>\n",
       "      <td>Changed_Credit_Limit</td>\n",
       "      <td>0.111535</td>\n",
       "    </tr>\n",
       "    <tr>\n",
       "      <th>6</th>\n",
       "      <td>Num_of_Delayed_Payment</td>\n",
       "      <td>0.109119</td>\n",
       "    </tr>\n",
       "    <tr>\n",
       "      <th>3</th>\n",
       "      <td>Num_Bank_Accounts</td>\n",
       "      <td>0.106113</td>\n",
       "    </tr>\n",
       "    <tr>\n",
       "      <th>1</th>\n",
       "      <td>Annual_Income</td>\n",
       "      <td>0.105275</td>\n",
       "    </tr>\n",
       "    <tr>\n",
       "      <th>9</th>\n",
       "      <td>Outstanding_Debt</td>\n",
       "      <td>NaN</td>\n",
       "    </tr>\n",
       "    <tr>\n",
       "      <th>10</th>\n",
       "      <td>Credit_Utilization_Ratio</td>\n",
       "      <td>NaN</td>\n",
       "    </tr>\n",
       "    <tr>\n",
       "      <th>11</th>\n",
       "      <td>Total_EMI_per_month</td>\n",
       "      <td>NaN</td>\n",
       "    </tr>\n",
       "    <tr>\n",
       "      <th>12</th>\n",
       "      <td>Amount_invested_monthly</td>\n",
       "      <td>NaN</td>\n",
       "    </tr>\n",
       "    <tr>\n",
       "      <th>13</th>\n",
       "      <td>Monthly_Balance</td>\n",
       "      <td>NaN</td>\n",
       "    </tr>\n",
       "    <tr>\n",
       "      <th>14</th>\n",
       "      <td>Credit_Mix_Bad</td>\n",
       "      <td>NaN</td>\n",
       "    </tr>\n",
       "    <tr>\n",
       "      <th>15</th>\n",
       "      <td>Credit_Mix_Good</td>\n",
       "      <td>NaN</td>\n",
       "    </tr>\n",
       "    <tr>\n",
       "      <th>16</th>\n",
       "      <td>Credit_Mix_Standard</td>\n",
       "      <td>NaN</td>\n",
       "    </tr>\n",
       "    <tr>\n",
       "      <th>17</th>\n",
       "      <td>Payment_of_Min_Amount_No</td>\n",
       "      <td>NaN</td>\n",
       "    </tr>\n",
       "    <tr>\n",
       "      <th>18</th>\n",
       "      <td>Payment_of_Min_Amount_Yes</td>\n",
       "      <td>NaN</td>\n",
       "    </tr>\n",
       "  </tbody>\n",
       "</table>\n",
       "</div>\n",
       "      <button class=\"colab-df-convert\" onclick=\"convertToInteractive('df-6c239853-0001-40f4-b498-bd49b7d10f69')\"\n",
       "              title=\"Convert this dataframe to an interactive table.\"\n",
       "              style=\"display:none;\">\n",
       "        \n",
       "  <svg xmlns=\"http://www.w3.org/2000/svg\" height=\"24px\"viewBox=\"0 0 24 24\"\n",
       "       width=\"24px\">\n",
       "    <path d=\"M0 0h24v24H0V0z\" fill=\"none\"/>\n",
       "    <path d=\"M18.56 5.44l.94 2.06.94-2.06 2.06-.94-2.06-.94-.94-2.06-.94 2.06-2.06.94zm-11 1L8.5 8.5l.94-2.06 2.06-.94-2.06-.94L8.5 2.5l-.94 2.06-2.06.94zm10 10l.94 2.06.94-2.06 2.06-.94-2.06-.94-.94-2.06-.94 2.06-2.06.94z\"/><path d=\"M17.41 7.96l-1.37-1.37c-.4-.4-.92-.59-1.43-.59-.52 0-1.04.2-1.43.59L10.3 9.45l-7.72 7.72c-.78.78-.78 2.05 0 2.83L4 21.41c.39.39.9.59 1.41.59.51 0 1.02-.2 1.41-.59l7.78-7.78 2.81-2.81c.8-.78.8-2.07 0-2.86zM5.41 20L4 18.59l7.72-7.72 1.47 1.35L5.41 20z\"/>\n",
       "  </svg>\n",
       "      </button>\n",
       "      \n",
       "  <style>\n",
       "    .colab-df-container {\n",
       "      display:flex;\n",
       "      flex-wrap:wrap;\n",
       "      gap: 12px;\n",
       "    }\n",
       "\n",
       "    .colab-df-convert {\n",
       "      background-color: #E8F0FE;\n",
       "      border: none;\n",
       "      border-radius: 50%;\n",
       "      cursor: pointer;\n",
       "      display: none;\n",
       "      fill: #1967D2;\n",
       "      height: 32px;\n",
       "      padding: 0 0 0 0;\n",
       "      width: 32px;\n",
       "    }\n",
       "\n",
       "    .colab-df-convert:hover {\n",
       "      background-color: #E2EBFA;\n",
       "      box-shadow: 0px 1px 2px rgba(60, 64, 67, 0.3), 0px 1px 3px 1px rgba(60, 64, 67, 0.15);\n",
       "      fill: #174EA6;\n",
       "    }\n",
       "\n",
       "    [theme=dark] .colab-df-convert {\n",
       "      background-color: #3B4455;\n",
       "      fill: #D2E3FC;\n",
       "    }\n",
       "\n",
       "    [theme=dark] .colab-df-convert:hover {\n",
       "      background-color: #434B5C;\n",
       "      box-shadow: 0px 1px 3px 1px rgba(0, 0, 0, 0.15);\n",
       "      filter: drop-shadow(0px 1px 2px rgba(0, 0, 0, 0.3));\n",
       "      fill: #FFFFFF;\n",
       "    }\n",
       "  </style>\n",
       "\n",
       "      <script>\n",
       "        const buttonEl =\n",
       "          document.querySelector('#df-6c239853-0001-40f4-b498-bd49b7d10f69 button.colab-df-convert');\n",
       "        buttonEl.style.display =\n",
       "          google.colab.kernel.accessAllowed ? 'block' : 'none';\n",
       "\n",
       "        async function convertToInteractive(key) {\n",
       "          const element = document.querySelector('#df-6c239853-0001-40f4-b498-bd49b7d10f69');\n",
       "          const dataTable =\n",
       "            await google.colab.kernel.invokeFunction('convertToInteractive',\n",
       "                                                     [key], {});\n",
       "          if (!dataTable) return;\n",
       "\n",
       "          const docLinkHtml = 'Like what you see? Visit the ' +\n",
       "            '<a target=\"_blank\" href=https://colab.research.google.com/notebooks/data_table.ipynb>data table notebook</a>'\n",
       "            + ' to learn more about interactive tables.';\n",
       "          element.innerHTML = '';\n",
       "          dataTable['output_type'] = 'display_data';\n",
       "          await google.colab.output.renderOutput(dataTable, element);\n",
       "          const docLink = document.createElement('div');\n",
       "          docLink.innerHTML = docLinkHtml;\n",
       "          element.appendChild(docLink);\n",
       "        }\n",
       "      </script>\n",
       "    </div>\n",
       "  </div>\n",
       "  "
      ],
      "text/plain": [
       "                   predictors  importance\n",
       "8        Num_Credit_Inquiries    0.115781\n",
       "4             Num_Credit_Card    0.113686\n",
       "5                 Num_of_Loan    0.113441\n",
       "2       Monthly_Inhand_Salary    0.113265\n",
       "0                         Age    0.111785\n",
       "7        Changed_Credit_Limit    0.111535\n",
       "6      Num_of_Delayed_Payment    0.109119\n",
       "3           Num_Bank_Accounts    0.106113\n",
       "1               Annual_Income    0.105275\n",
       "9            Outstanding_Debt         NaN\n",
       "10   Credit_Utilization_Ratio         NaN\n",
       "11        Total_EMI_per_month         NaN\n",
       "12    Amount_invested_monthly         NaN\n",
       "13            Monthly_Balance         NaN\n",
       "14             Credit_Mix_Bad         NaN\n",
       "15            Credit_Mix_Good         NaN\n",
       "16        Credit_Mix_Standard         NaN\n",
       "17   Payment_of_Min_Amount_No         NaN\n",
       "18  Payment_of_Min_Amount_Yes         NaN"
      ]
     },
     "execution_count": 12,
     "metadata": {},
     "output_type": "execute_result"
    }
   ],
   "source": [
    "# BAGGING MODEL Feature Importances\n",
    "predictors = np.array(X.columns)\n",
    "\n",
    "feature_importances = np.mean([\n",
    "    tree.feature_importances_ for tree in bagging_model.estimators_\n",
    "], axis=0)\n",
    "\n",
    "importances = pd.DataFrame(columns = ['predictors', 'importance'])\n",
    "\n",
    "importances['predictors'] = pd.Series(predictors)\n",
    "importances['importance'] = pd.Series(feature_importances)\n",
    "\n",
    "importances.sort_values(by = \"importance\", ascending = False)"
   ]
  },
  {
   "cell_type": "code",
   "execution_count": 16,
   "id": "468c1a20",
   "metadata": {
    "id": "468c1a20"
   },
   "outputs": [],
   "source": [
    "# RANDOM FOREST MODEL \n",
    "\n",
    "rf_model = RandomForestRegressor(random_state = 1,\n",
    "                                n_estimators = 450,\n",
    "                                max_depth = 24,\n",
    "                                max_leaf_nodes = 1300,\n",
    "                                max_features = 2,\n",
    "                                bootstrap = False,\n",
    "                                n_jobs = -1).fit(X, y)"
   ]
  },
  {
   "cell_type": "code",
   "execution_count": 18,
   "id": "003e04be",
   "metadata": {
    "colab": {
     "base_uri": "https://localhost:8080/",
     "height": 645
    },
    "id": "003e04be",
    "outputId": "f38d492f-c651-4843-98d1-c7036a78c8b7"
   },
   "outputs": [
    {
     "data": {
      "text/html": [
       "\n",
       "  <div id=\"df-e177d341-7a97-4cd9-8754-e276f9a20f1e\">\n",
       "    <div class=\"colab-df-container\">\n",
       "      <div>\n",
       "<style scoped>\n",
       "    .dataframe tbody tr th:only-of-type {\n",
       "        vertical-align: middle;\n",
       "    }\n",
       "\n",
       "    .dataframe tbody tr th {\n",
       "        vertical-align: top;\n",
       "    }\n",
       "\n",
       "    .dataframe thead th {\n",
       "        text-align: right;\n",
       "    }\n",
       "</style>\n",
       "<table border=\"1\" class=\"dataframe\">\n",
       "  <thead>\n",
       "    <tr style=\"text-align: right;\">\n",
       "      <th></th>\n",
       "      <th>predictors</th>\n",
       "      <th>importance</th>\n",
       "    </tr>\n",
       "  </thead>\n",
       "  <tbody>\n",
       "    <tr>\n",
       "      <th>9</th>\n",
       "      <td>Outstanding_Debt</td>\n",
       "      <td>0.131825</td>\n",
       "    </tr>\n",
       "    <tr>\n",
       "      <th>8</th>\n",
       "      <td>Num_Credit_Inquiries</td>\n",
       "      <td>0.068341</td>\n",
       "    </tr>\n",
       "    <tr>\n",
       "      <th>13</th>\n",
       "      <td>Monthly_Balance</td>\n",
       "      <td>0.062657</td>\n",
       "    </tr>\n",
       "    <tr>\n",
       "      <th>10</th>\n",
       "      <td>Credit_Utilization_Ratio</td>\n",
       "      <td>0.060789</td>\n",
       "    </tr>\n",
       "    <tr>\n",
       "      <th>4</th>\n",
       "      <td>Num_Credit_Card</td>\n",
       "      <td>0.060587</td>\n",
       "    </tr>\n",
       "    <tr>\n",
       "      <th>12</th>\n",
       "      <td>Amount_invested_monthly</td>\n",
       "      <td>0.059655</td>\n",
       "    </tr>\n",
       "    <tr>\n",
       "      <th>7</th>\n",
       "      <td>Changed_Credit_Limit</td>\n",
       "      <td>0.057071</td>\n",
       "    </tr>\n",
       "    <tr>\n",
       "      <th>2</th>\n",
       "      <td>Monthly_Inhand_Salary</td>\n",
       "      <td>0.056375</td>\n",
       "    </tr>\n",
       "    <tr>\n",
       "      <th>6</th>\n",
       "      <td>Num_of_Delayed_Payment</td>\n",
       "      <td>0.055711</td>\n",
       "    </tr>\n",
       "    <tr>\n",
       "      <th>1</th>\n",
       "      <td>Annual_Income</td>\n",
       "      <td>0.055555</td>\n",
       "    </tr>\n",
       "    <tr>\n",
       "      <th>11</th>\n",
       "      <td>Total_EMI_per_month</td>\n",
       "      <td>0.055362</td>\n",
       "    </tr>\n",
       "    <tr>\n",
       "      <th>0</th>\n",
       "      <td>Age</td>\n",
       "      <td>0.050219</td>\n",
       "    </tr>\n",
       "    <tr>\n",
       "      <th>3</th>\n",
       "      <td>Num_Bank_Accounts</td>\n",
       "      <td>0.049545</td>\n",
       "    </tr>\n",
       "    <tr>\n",
       "      <th>14</th>\n",
       "      <td>Credit_Mix_Bad</td>\n",
       "      <td>0.041823</td>\n",
       "    </tr>\n",
       "    <tr>\n",
       "      <th>5</th>\n",
       "      <td>Num_of_Loan</td>\n",
       "      <td>0.037385</td>\n",
       "    </tr>\n",
       "    <tr>\n",
       "      <th>15</th>\n",
       "      <td>Credit_Mix_Good</td>\n",
       "      <td>0.026729</td>\n",
       "    </tr>\n",
       "    <tr>\n",
       "      <th>18</th>\n",
       "      <td>Payment_of_Min_Amount_Yes</td>\n",
       "      <td>0.026492</td>\n",
       "    </tr>\n",
       "    <tr>\n",
       "      <th>16</th>\n",
       "      <td>Credit_Mix_Standard</td>\n",
       "      <td>0.022672</td>\n",
       "    </tr>\n",
       "    <tr>\n",
       "      <th>17</th>\n",
       "      <td>Payment_of_Min_Amount_No</td>\n",
       "      <td>0.021204</td>\n",
       "    </tr>\n",
       "  </tbody>\n",
       "</table>\n",
       "</div>\n",
       "      <button class=\"colab-df-convert\" onclick=\"convertToInteractive('df-e177d341-7a97-4cd9-8754-e276f9a20f1e')\"\n",
       "              title=\"Convert this dataframe to an interactive table.\"\n",
       "              style=\"display:none;\">\n",
       "        \n",
       "  <svg xmlns=\"http://www.w3.org/2000/svg\" height=\"24px\"viewBox=\"0 0 24 24\"\n",
       "       width=\"24px\">\n",
       "    <path d=\"M0 0h24v24H0V0z\" fill=\"none\"/>\n",
       "    <path d=\"M18.56 5.44l.94 2.06.94-2.06 2.06-.94-2.06-.94-.94-2.06-.94 2.06-2.06.94zm-11 1L8.5 8.5l.94-2.06 2.06-.94-2.06-.94L8.5 2.5l-.94 2.06-2.06.94zm10 10l.94 2.06.94-2.06 2.06-.94-2.06-.94-.94-2.06-.94 2.06-2.06.94z\"/><path d=\"M17.41 7.96l-1.37-1.37c-.4-.4-.92-.59-1.43-.59-.52 0-1.04.2-1.43.59L10.3 9.45l-7.72 7.72c-.78.78-.78 2.05 0 2.83L4 21.41c.39.39.9.59 1.41.59.51 0 1.02-.2 1.41-.59l7.78-7.78 2.81-2.81c.8-.78.8-2.07 0-2.86zM5.41 20L4 18.59l7.72-7.72 1.47 1.35L5.41 20z\"/>\n",
       "  </svg>\n",
       "      </button>\n",
       "      \n",
       "  <style>\n",
       "    .colab-df-container {\n",
       "      display:flex;\n",
       "      flex-wrap:wrap;\n",
       "      gap: 12px;\n",
       "    }\n",
       "\n",
       "    .colab-df-convert {\n",
       "      background-color: #E8F0FE;\n",
       "      border: none;\n",
       "      border-radius: 50%;\n",
       "      cursor: pointer;\n",
       "      display: none;\n",
       "      fill: #1967D2;\n",
       "      height: 32px;\n",
       "      padding: 0 0 0 0;\n",
       "      width: 32px;\n",
       "    }\n",
       "\n",
       "    .colab-df-convert:hover {\n",
       "      background-color: #E2EBFA;\n",
       "      box-shadow: 0px 1px 2px rgba(60, 64, 67, 0.3), 0px 1px 3px 1px rgba(60, 64, 67, 0.15);\n",
       "      fill: #174EA6;\n",
       "    }\n",
       "\n",
       "    [theme=dark] .colab-df-convert {\n",
       "      background-color: #3B4455;\n",
       "      fill: #D2E3FC;\n",
       "    }\n",
       "\n",
       "    [theme=dark] .colab-df-convert:hover {\n",
       "      background-color: #434B5C;\n",
       "      box-shadow: 0px 1px 3px 1px rgba(0, 0, 0, 0.15);\n",
       "      filter: drop-shadow(0px 1px 2px rgba(0, 0, 0, 0.3));\n",
       "      fill: #FFFFFF;\n",
       "    }\n",
       "  </style>\n",
       "\n",
       "      <script>\n",
       "        const buttonEl =\n",
       "          document.querySelector('#df-e177d341-7a97-4cd9-8754-e276f9a20f1e button.colab-df-convert');\n",
       "        buttonEl.style.display =\n",
       "          google.colab.kernel.accessAllowed ? 'block' : 'none';\n",
       "\n",
       "        async function convertToInteractive(key) {\n",
       "          const element = document.querySelector('#df-e177d341-7a97-4cd9-8754-e276f9a20f1e');\n",
       "          const dataTable =\n",
       "            await google.colab.kernel.invokeFunction('convertToInteractive',\n",
       "                                                     [key], {});\n",
       "          if (!dataTable) return;\n",
       "\n",
       "          const docLinkHtml = 'Like what you see? Visit the ' +\n",
       "            '<a target=\"_blank\" href=https://colab.research.google.com/notebooks/data_table.ipynb>data table notebook</a>'\n",
       "            + ' to learn more about interactive tables.';\n",
       "          element.innerHTML = '';\n",
       "          dataTable['output_type'] = 'display_data';\n",
       "          await google.colab.output.renderOutput(dataTable, element);\n",
       "          const docLink = document.createElement('div');\n",
       "          docLink.innerHTML = docLinkHtml;\n",
       "          element.appendChild(docLink);\n",
       "        }\n",
       "      </script>\n",
       "    </div>\n",
       "  </div>\n",
       "  "
      ],
      "text/plain": [
       "                   predictors  importance\n",
       "9            Outstanding_Debt    0.131825\n",
       "8        Num_Credit_Inquiries    0.068341\n",
       "13            Monthly_Balance    0.062657\n",
       "10   Credit_Utilization_Ratio    0.060789\n",
       "4             Num_Credit_Card    0.060587\n",
       "12    Amount_invested_monthly    0.059655\n",
       "7        Changed_Credit_Limit    0.057071\n",
       "2       Monthly_Inhand_Salary    0.056375\n",
       "6      Num_of_Delayed_Payment    0.055711\n",
       "1               Annual_Income    0.055555\n",
       "11        Total_EMI_per_month    0.055362\n",
       "0                         Age    0.050219\n",
       "3           Num_Bank_Accounts    0.049545\n",
       "14             Credit_Mix_Bad    0.041823\n",
       "5                 Num_of_Loan    0.037385\n",
       "15            Credit_Mix_Good    0.026729\n",
       "18  Payment_of_Min_Amount_Yes    0.026492\n",
       "16        Credit_Mix_Standard    0.022672\n",
       "17   Payment_of_Min_Amount_No    0.021204"
      ]
     },
     "execution_count": 18,
     "metadata": {},
     "output_type": "execute_result"
    }
   ],
   "source": [
    "# RANDOM FOREST MODEL Feature Importances\n",
    "predictors = np.array(X.columns)\n",
    "\n",
    "feature_importances = np.mean([\n",
    "    tree.feature_importances_ for tree in rf_model.estimators_\n",
    "], axis=0)\n",
    "\n",
    "importances = pd.DataFrame(columns = ['predictors', 'importance'])\n",
    "\n",
    "importances['predictors'] = pd.Series(predictors)\n",
    "importances['importance'] = pd.Series(feature_importances)\n",
    "\n",
    "importances.sort_values(by = \"importance\", ascending = False)"
   ]
  },
  {
   "cell_type": "code",
   "execution_count": 20,
   "id": "c85c18f3",
   "metadata": {
    "id": "c85c18f3"
   },
   "outputs": [],
   "source": [
    "# XGBOOST MODEL \n",
    "xgb_model = xgb.XGBRegressor(random_state=1,\n",
    "                         subsample=0.75,\n",
    "                         reg_lambda=0.4,\n",
    "                         n_estimators=1000,\n",
    "                         max_depth=8,\n",
    "                         learning_rate=0.0088,\n",
    "                         gamma=15,\n",
    "                         colsample_bytree=0.4).fit(X,y)"
   ]
  },
  {
   "cell_type": "code",
   "execution_count": 21,
   "id": "fd2ca4bf",
   "metadata": {
    "colab": {
     "base_uri": "https://localhost:8080/",
     "height": 645
    },
    "id": "fd2ca4bf",
    "outputId": "7e815540-8511-4f25-f0a5-766d1c3b4570"
   },
   "outputs": [
    {
     "data": {
      "text/html": [
       "\n",
       "  <div id=\"df-60eb3519-05ac-4c6d-8b41-ca068bc2bbb5\">\n",
       "    <div class=\"colab-df-container\">\n",
       "      <div>\n",
       "<style scoped>\n",
       "    .dataframe tbody tr th:only-of-type {\n",
       "        vertical-align: middle;\n",
       "    }\n",
       "\n",
       "    .dataframe tbody tr th {\n",
       "        vertical-align: top;\n",
       "    }\n",
       "\n",
       "    .dataframe thead th {\n",
       "        text-align: right;\n",
       "    }\n",
       "</style>\n",
       "<table border=\"1\" class=\"dataframe\">\n",
       "  <thead>\n",
       "    <tr style=\"text-align: right;\">\n",
       "      <th></th>\n",
       "      <th>predictors</th>\n",
       "      <th>importance</th>\n",
       "    </tr>\n",
       "  </thead>\n",
       "  <tbody>\n",
       "    <tr>\n",
       "      <th>14</th>\n",
       "      <td>Credit_Mix_Bad</td>\n",
       "      <td>0.281102</td>\n",
       "    </tr>\n",
       "    <tr>\n",
       "      <th>17</th>\n",
       "      <td>Payment_of_Min_Amount_No</td>\n",
       "      <td>0.117728</td>\n",
       "    </tr>\n",
       "    <tr>\n",
       "      <th>15</th>\n",
       "      <td>Credit_Mix_Good</td>\n",
       "      <td>0.114871</td>\n",
       "    </tr>\n",
       "    <tr>\n",
       "      <th>18</th>\n",
       "      <td>Payment_of_Min_Amount_Yes</td>\n",
       "      <td>0.112086</td>\n",
       "    </tr>\n",
       "    <tr>\n",
       "      <th>16</th>\n",
       "      <td>Credit_Mix_Standard</td>\n",
       "      <td>0.074811</td>\n",
       "    </tr>\n",
       "    <tr>\n",
       "      <th>9</th>\n",
       "      <td>Outstanding_Debt</td>\n",
       "      <td>0.052483</td>\n",
       "    </tr>\n",
       "    <tr>\n",
       "      <th>8</th>\n",
       "      <td>Num_Credit_Inquiries</td>\n",
       "      <td>0.034174</td>\n",
       "    </tr>\n",
       "    <tr>\n",
       "      <th>4</th>\n",
       "      <td>Num_Credit_Card</td>\n",
       "      <td>0.024666</td>\n",
       "    </tr>\n",
       "    <tr>\n",
       "      <th>11</th>\n",
       "      <td>Total_EMI_per_month</td>\n",
       "      <td>0.019390</td>\n",
       "    </tr>\n",
       "    <tr>\n",
       "      <th>12</th>\n",
       "      <td>Amount_invested_monthly</td>\n",
       "      <td>0.019067</td>\n",
       "    </tr>\n",
       "    <tr>\n",
       "      <th>13</th>\n",
       "      <td>Monthly_Balance</td>\n",
       "      <td>0.018935</td>\n",
       "    </tr>\n",
       "    <tr>\n",
       "      <th>3</th>\n",
       "      <td>Num_Bank_Accounts</td>\n",
       "      <td>0.018320</td>\n",
       "    </tr>\n",
       "    <tr>\n",
       "      <th>10</th>\n",
       "      <td>Credit_Utilization_Ratio</td>\n",
       "      <td>0.018253</td>\n",
       "    </tr>\n",
       "    <tr>\n",
       "      <th>7</th>\n",
       "      <td>Changed_Credit_Limit</td>\n",
       "      <td>0.018015</td>\n",
       "    </tr>\n",
       "    <tr>\n",
       "      <th>2</th>\n",
       "      <td>Monthly_Inhand_Salary</td>\n",
       "      <td>0.016488</td>\n",
       "    </tr>\n",
       "    <tr>\n",
       "      <th>6</th>\n",
       "      <td>Num_of_Delayed_Payment</td>\n",
       "      <td>0.015974</td>\n",
       "    </tr>\n",
       "    <tr>\n",
       "      <th>5</th>\n",
       "      <td>Num_of_Loan</td>\n",
       "      <td>0.015757</td>\n",
       "    </tr>\n",
       "    <tr>\n",
       "      <th>1</th>\n",
       "      <td>Annual_Income</td>\n",
       "      <td>0.015669</td>\n",
       "    </tr>\n",
       "    <tr>\n",
       "      <th>0</th>\n",
       "      <td>Age</td>\n",
       "      <td>0.012211</td>\n",
       "    </tr>\n",
       "  </tbody>\n",
       "</table>\n",
       "</div>\n",
       "      <button class=\"colab-df-convert\" onclick=\"convertToInteractive('df-60eb3519-05ac-4c6d-8b41-ca068bc2bbb5')\"\n",
       "              title=\"Convert this dataframe to an interactive table.\"\n",
       "              style=\"display:none;\">\n",
       "        \n",
       "  <svg xmlns=\"http://www.w3.org/2000/svg\" height=\"24px\"viewBox=\"0 0 24 24\"\n",
       "       width=\"24px\">\n",
       "    <path d=\"M0 0h24v24H0V0z\" fill=\"none\"/>\n",
       "    <path d=\"M18.56 5.44l.94 2.06.94-2.06 2.06-.94-2.06-.94-.94-2.06-.94 2.06-2.06.94zm-11 1L8.5 8.5l.94-2.06 2.06-.94-2.06-.94L8.5 2.5l-.94 2.06-2.06.94zm10 10l.94 2.06.94-2.06 2.06-.94-2.06-.94-.94-2.06-.94 2.06-2.06.94z\"/><path d=\"M17.41 7.96l-1.37-1.37c-.4-.4-.92-.59-1.43-.59-.52 0-1.04.2-1.43.59L10.3 9.45l-7.72 7.72c-.78.78-.78 2.05 0 2.83L4 21.41c.39.39.9.59 1.41.59.51 0 1.02-.2 1.41-.59l7.78-7.78 2.81-2.81c.8-.78.8-2.07 0-2.86zM5.41 20L4 18.59l7.72-7.72 1.47 1.35L5.41 20z\"/>\n",
       "  </svg>\n",
       "      </button>\n",
       "      \n",
       "  <style>\n",
       "    .colab-df-container {\n",
       "      display:flex;\n",
       "      flex-wrap:wrap;\n",
       "      gap: 12px;\n",
       "    }\n",
       "\n",
       "    .colab-df-convert {\n",
       "      background-color: #E8F0FE;\n",
       "      border: none;\n",
       "      border-radius: 50%;\n",
       "      cursor: pointer;\n",
       "      display: none;\n",
       "      fill: #1967D2;\n",
       "      height: 32px;\n",
       "      padding: 0 0 0 0;\n",
       "      width: 32px;\n",
       "    }\n",
       "\n",
       "    .colab-df-convert:hover {\n",
       "      background-color: #E2EBFA;\n",
       "      box-shadow: 0px 1px 2px rgba(60, 64, 67, 0.3), 0px 1px 3px 1px rgba(60, 64, 67, 0.15);\n",
       "      fill: #174EA6;\n",
       "    }\n",
       "\n",
       "    [theme=dark] .colab-df-convert {\n",
       "      background-color: #3B4455;\n",
       "      fill: #D2E3FC;\n",
       "    }\n",
       "\n",
       "    [theme=dark] .colab-df-convert:hover {\n",
       "      background-color: #434B5C;\n",
       "      box-shadow: 0px 1px 3px 1px rgba(0, 0, 0, 0.15);\n",
       "      filter: drop-shadow(0px 1px 2px rgba(0, 0, 0, 0.3));\n",
       "      fill: #FFFFFF;\n",
       "    }\n",
       "  </style>\n",
       "\n",
       "      <script>\n",
       "        const buttonEl =\n",
       "          document.querySelector('#df-60eb3519-05ac-4c6d-8b41-ca068bc2bbb5 button.colab-df-convert');\n",
       "        buttonEl.style.display =\n",
       "          google.colab.kernel.accessAllowed ? 'block' : 'none';\n",
       "\n",
       "        async function convertToInteractive(key) {\n",
       "          const element = document.querySelector('#df-60eb3519-05ac-4c6d-8b41-ca068bc2bbb5');\n",
       "          const dataTable =\n",
       "            await google.colab.kernel.invokeFunction('convertToInteractive',\n",
       "                                                     [key], {});\n",
       "          if (!dataTable) return;\n",
       "\n",
       "          const docLinkHtml = 'Like what you see? Visit the ' +\n",
       "            '<a target=\"_blank\" href=https://colab.research.google.com/notebooks/data_table.ipynb>data table notebook</a>'\n",
       "            + ' to learn more about interactive tables.';\n",
       "          element.innerHTML = '';\n",
       "          dataTable['output_type'] = 'display_data';\n",
       "          await google.colab.output.renderOutput(dataTable, element);\n",
       "          const docLink = document.createElement('div');\n",
       "          docLink.innerHTML = docLinkHtml;\n",
       "          element.appendChild(docLink);\n",
       "        }\n",
       "      </script>\n",
       "    </div>\n",
       "  </div>\n",
       "  "
      ],
      "text/plain": [
       "                   predictors  importance\n",
       "14             Credit_Mix_Bad    0.281102\n",
       "17   Payment_of_Min_Amount_No    0.117728\n",
       "15            Credit_Mix_Good    0.114871\n",
       "18  Payment_of_Min_Amount_Yes    0.112086\n",
       "16        Credit_Mix_Standard    0.074811\n",
       "9            Outstanding_Debt    0.052483\n",
       "8        Num_Credit_Inquiries    0.034174\n",
       "4             Num_Credit_Card    0.024666\n",
       "11        Total_EMI_per_month    0.019390\n",
       "12    Amount_invested_monthly    0.019067\n",
       "13            Monthly_Balance    0.018935\n",
       "3           Num_Bank_Accounts    0.018320\n",
       "10   Credit_Utilization_Ratio    0.018253\n",
       "7        Changed_Credit_Limit    0.018015\n",
       "2       Monthly_Inhand_Salary    0.016488\n",
       "6      Num_of_Delayed_Payment    0.015974\n",
       "5                 Num_of_Loan    0.015757\n",
       "1               Annual_Income    0.015669\n",
       "0                         Age    0.012211"
      ]
     },
     "execution_count": 21,
     "metadata": {},
     "output_type": "execute_result"
    }
   ],
   "source": [
    "#XGBOOST MODEL Feature Importances\n",
    "predictors = np.array(X.columns)\n",
    "\n",
    "feature_importances = xgb_model.feature_importances_\n",
    "\n",
    "importances = pd.DataFrame(columns = ['predictors', 'importance'])\n",
    "\n",
    "importances['predictors'] = pd.Series(predictors)\n",
    "importances['importance'] = pd.Series(feature_importances)\n",
    "\n",
    "importances.sort_values(by = \"importance\", ascending = False)"
   ]
  },
  {
   "cell_type": "markdown",
   "id": "961bcb1d",
   "metadata": {
    "id": "961bcb1d"
   },
   "source": [
    "### Voting ensemble"
   ]
  },
  {
   "cell_type": "code",
   "execution_count": 22,
   "id": "27603c24",
   "metadata": {
    "colab": {
     "base_uri": "https://localhost:8080/"
    },
    "id": "27603c24",
    "outputId": "24b58c4b-f4dd-4c28-a550-e4d1dd43b9ab"
   },
   "outputs": [
    {
     "name": "stdout",
     "output_type": "stream",
     "text": [
      "Ensemble model RMSE =  61.593737837648646\n"
     ]
    }
   ],
   "source": [
    "from sklearn.ensemble import VotingRegressor, VotingClassifier, StackingRegressor, StackingClassifier, GradientBoostingRegressor,GradientBoostingClassifier, BaggingRegressor,BaggingClassifier,RandomForestRegressor,RandomForestClassifier,AdaBoostRegressor,AdaBoostClassifier\n",
    "\n",
    "\n",
    "# Voting ensemble: Averaging the predictions of all models\n",
    "en = VotingRegressor(estimators = [('xgb', xgb_model),('rf', rf_model), \n",
    "                                              ('bagging', bagging_model), ('MARS', MARS_model)])\n",
    "en.fit(X,y)\n",
    "print(\"Ensemble model RMSE = \", np.sqrt(mean_squared_error(en.predict(X_test),y_test)))"
   ]
  },
  {
   "cell_type": "markdown",
   "id": "ca651ba0",
   "metadata": {
    "id": "ca651ba0"
   },
   "source": [
    "### Stacking ensemble(s)"
   ]
  },
  {
   "cell_type": "code",
   "execution_count": 23,
   "id": "cfcea007",
   "metadata": {
    "colab": {
     "base_uri": "https://localhost:8080/"
    },
    "id": "cfcea007",
    "outputId": "3d00b915-7284-41e3-8bd6-b766b7b60901"
   },
   "outputs": [
    {
     "name": "stdout",
     "output_type": "stream",
     "text": [
      "The Final Model RMSE  is  61.44450740075918\n"
     ]
    }
   ],
   "source": [
    "# LinearRegression as the metamodel\n",
    " \n",
    "final_model = StackingRegressor(estimators = [('xgb', xgb_model),('rf', rf_model), \n",
    "                                              ('bagging', bagging_model), ('MARS', MARS_model)],\n",
    "                                final_estimator=LinearRegression(),                                          \n",
    "                                cv = KFold(n_splits = 5, shuffle = True, random_state=1))\n",
    "\n",
    "final_model.fit(X,y)\n",
    "\n",
    "print(\"The Final Model RMSE  is \", np.sqrt(mean_squared_error(final_model.predict(X_test), y_test)))"
   ]
  },
  {
   "cell_type": "code",
   "execution_count": 24,
   "id": "a098836d",
   "metadata": {
    "colab": {
     "base_uri": "https://localhost:8080/"
    },
    "id": "a098836d",
    "outputId": "54b93c70-6ad0-406c-f417-0c8f25850322"
   },
   "outputs": [
    {
     "data": {
      "text/plain": [
       "array([-0.08213207,  0.60542566,  0.44042377,  0.06338193])"
      ]
     },
     "execution_count": 24,
     "metadata": {},
     "output_type": "execute_result"
    }
   ],
   "source": [
    "#Co-efficients \n",
    "final_model.final_estimator_.coef_"
   ]
  }
 ],
 "metadata": {
  "colab": {
   "provenance": []
  },
  "kernelspec": {
   "display_name": "Python 3 (ipykernel)",
   "language": "python",
   "name": "python3"
  },
  "language_info": {
   "codemirror_mode": {
    "name": "ipython",
    "version": 3
   },
   "file_extension": ".py",
   "mimetype": "text/x-python",
   "name": "python",
   "nbconvert_exporter": "python",
   "pygments_lexer": "ipython3",
   "version": "3.9.12"
  }
 },
 "nbformat": 4,
 "nbformat_minor": 5
}
